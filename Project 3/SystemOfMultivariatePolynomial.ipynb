{
 "cells": [
  {
   "cell_type": "code",
   "execution_count": 132,
   "outputs": [],
   "source": [
    "import re\n",
    "import sympy as sp"
   ],
   "metadata": {
    "collapsed": false,
    "ExecuteTime": {
     "start_time": "2023-04-28T00:39:55.668448Z",
     "end_time": "2023-04-28T00:39:55.673161Z"
    }
   }
  },
  {
   "cell_type": "markdown",
   "source": [
    "# 2 tickets - 3 persons:"
   ],
   "metadata": {
    "collapsed": false
   }
  },
  {
   "cell_type": "code",
   "execution_count": 133,
   "outputs": [],
   "source": [
    "p11, p21, p22, p31, p32 = sp.symbols(\"p11, p21, p22, p31, p32\")\n",
    "vars = [p11, p21, p22, p31, p32]\n",
    "# only 1 of 2 tickets bought amongst 3 persons\n",
    "term1 = p11*(1-p11)*(1-(1-p22))*(1-(1-p32))\n",
    "term2 = p21*(1-(1-p11))*(1-p21)*(1-(1-p32))\n",
    "term3 = p31*(1-(1-p11))*(1-(1-p21))*(1-p31)\n",
    "# 2 of 2 tickets bought amongst 3 persons\n",
    "term4 = (p11+p22)*(1-p11)*(1-p22)\n",
    "term5 = (p11+p32)*(1-p11)*(1-(1-p22))*(1-p32)\n",
    "term6 = (p21+p32)*(1-(1-p11))*(1-p21)*(1-p32)\n",
    "expectation = term1+term2+term3+term4+term5+term6\n",
    "\n",
    "# Writing out diff equations to .txt file for easy Ctrl-C Ctrl-V\n",
    "file = open(\"3persons2tickets.txt\", \"w\")\n",
    "for idx, var in enumerate(vars):\n",
    "    __ = f\"eq{idx+1}=\"+str(sp.diff(expectation,var))\n",
    "    file.write(re.sub(r\"\\s+\", \"\", __)+\"\\n\\n\")\n",
    "file.close()\n",
    "\n"
   ],
   "metadata": {
    "collapsed": false,
    "ExecuteTime": {
     "start_time": "2023-04-28T00:39:55.673894Z",
     "end_time": "2023-04-28T00:39:55.681396Z"
    }
   }
  },
  {
   "cell_type": "code",
   "execution_count": 134,
   "outputs": [
    {
     "name": "stdout",
     "output_type": "stream",
     "text": [
      "p11: 0.554688\n",
      "p21: 0.5\n",
      "p22: 0.625\n",
      "p31: 0.5\n",
      "p32: 0.5\n"
     ]
    }
   ],
   "source": [
    "import numpy as np\n",
    "from scipy.optimize import minimize\n",
    "\n",
    "# 3 persons 2 tickets\n",
    "def equations(x):\n",
    "    p11, p21, p22, p31, p32 = x[0],x[1],x[2],x[3],x[4]\n",
    "    eq1 = -2*p11-p21**2+p21*(-p31**2+p31+p32**2-p32+1)+p22**2+p22*(p32**2-p32-1)-p32**2+p32+1\n",
    "\n",
    "    eq2=-p11*p21*p32+p11*p31*(1-p31)+p11*p32*(1-p21)+p11*(1-p21)*(1-p32)-p11*(1-p32)*(p21+p32)\n",
    "\n",
    "    eq3=p11*p32*(1-p11)+(1-p11)*(1-p22)+(1-p11)*(1-p32)*(p11+p32)-(1-p11)*(p11+p22)\n",
    "\n",
    "    eq4=-p11*p21*p31+p11*p21*(1-p31)\n",
    "\n",
    "    eq5=p11*p21*(1-p21)+p11*p22*(1-p11)+p11*(1-p21)*(1-p32)-p11*(1-p21)*(p21+p32)+p22*(1-p11)*(1-p32)-p22*(1-p11)*(p11+p32)\n",
    "    return [eq1, eq2, eq3, eq4, eq5]\n",
    "\n",
    "x0 = [0.5 for i in range(5)]\n",
    "bounds = [(0, 1) for var in range(len(x0))]\n",
    "problem = minimize(lambda x: np.sum(np.square(equations(x))), x0, bounds=bounds)\n",
    "\n",
    "vars = ['p11', 'p21', 'p22', 'p31', 'p32']\n",
    "for var in range(len(vars)):\n",
    "    print(f'{vars[var]}: {np.round(problem.x[var],6)}')"
   ],
   "metadata": {
    "collapsed": false,
    "ExecuteTime": {
     "start_time": "2023-04-28T00:39:55.682365Z",
     "end_time": "2023-04-28T00:39:55.700554Z"
    }
   }
  },
  {
   "cell_type": "markdown",
   "source": [
    "# 2 tickets - 4 persons:"
   ],
   "metadata": {
    "collapsed": false
   }
  },
  {
   "cell_type": "code",
   "execution_count": 135,
   "outputs": [],
   "source": [
    "p11, p21, p31, p41 = sp.symbols('p11, p21, p31, p41')\n",
    "p22, p32, p42      = sp.symbols('p22, p32, p42')\n",
    "\n",
    "vars = [p11, p21, p31, p41, p22, p32, p42]\n",
    "\n",
    "# Only 1 of 3 tickets bought amongst 4 persons\n",
    "term1 = p11*(1-p11)*(1-(1-p22))*(1-(1-p32))*(1-(1-p42))\n",
    "term2 = p21*(1-(1-p11))*(1-p21)*(1-(1-p32))*(1-(1-p42))\n",
    "term3 = p31*(1-(1-p11))*(1-(1-p21))*(1-p31)*(1-(1-p42))\n",
    "term4 = p41*(1-(1-p11))*(1-(1-p21))*(1-(1-p31))*(1-p41)\n",
    "\n",
    "# 2 of 2 tickets bought amongst 4 persons\n",
    "term5 = (p11+p22)*(1-p11)*(1-p22)\n",
    "term6 = (p11+p32)*(1-p11)*(1-(1-p22))*(1-p32)\n",
    "term7 = (p11+p42)*(1-p11)*(1-(1-p22))*(1-(1-p32))*(1-p42)\n",
    "term8 = (p21+p32)*(1-(1-p11))*(1-p21)*(1-p32)\n",
    "term9 = (p21+p42)*(1-(1-p11))*(1-p21)*(1-(1-p32))*(1-p42)\n",
    "term10 = (p31+p42)*(1-(1-p11))*(1-(1-p21))*(1-p31)*(1-p42)\n",
    "\n",
    "# Expectation\n",
    "expectation = term1 + term2 + term3 + term4 + \\\n",
    "              term5 + term6 + term7 + term8 + \\\n",
    "              term9 + term10\n",
    "\n",
    "# Writing out diff equations to .txt file for easy Ctrl-C Ctrl-V\n",
    "file = open(\"4persons2tickets.txt\", \"w\")\n",
    "for idx, var in enumerate(vars):\n",
    "    __ = f\"eq{idx+1}=\"+str(sp.diff(expectation,var))\n",
    "    file.write(re.sub(r\"\\s+\", \"\", __)+\"\\n\\n\")\n",
    "file.close()"
   ],
   "metadata": {
    "collapsed": false,
    "ExecuteTime": {
     "start_time": "2023-04-28T00:39:55.704277Z",
     "end_time": "2023-04-28T00:39:55.708329Z"
    }
   }
  },
  {
   "cell_type": "code",
   "execution_count": 136,
   "outputs": [
    {
     "name": "stdout",
     "output_type": "stream",
     "text": [
      "p11: 0.607422\n",
      "p21: 0.554686\n",
      "p31: 0.5\n",
      "p41: 0.5\n",
      "p22: 0.695312\n",
      "p32: 0.625\n",
      "p42: 0.5\n"
     ]
    }
   ],
   "source": [
    "def equations(x):\n",
    "    p11, p21, p31, p41, p22, p32, p42 = x[0], x[1], x[2], x[3], x[4], x[5], x[6]\n",
    "\n",
    "    eq1=-p11*p22*p32*p42+p21*p31*p41*(1-p41)+p21*p31*p42*(1-p31)+p21*p32*p42*(1-p21)+p21*(1-p31)*(1-p42)*(p31+p42)+p22*p32*p42*(1-p11)+p22*p32*(1-p11)*(1-p42)-p22*p32*(1-p42)*(p11+p42)+p22*(1-p11)*(1-p32)-p22*(1-p32)*(p11+p32)+p32*(1-p21)*(1-p42)*(p21+p42)+(1-p11)*(1-p22)+(1-p21)*(1-p32)*(p21+p32)-(1-p22)*(p11+p22)\n",
    "\n",
    "    eq2=-p11*p21*p32*p42+p11*p31*p41*(1-p41)+p11*p31*p42*(1-p31)+p11*p32*p42*(1-p21)+p11*p32*(1-p21)*(1-p42)-p11*p32*(1-p42)*(p21+p42)+p11*(1-p21)*(1-p32)+p11*(1-p31)*(1-p42)*(p31+p42)-p11*(1-p32)*(p21+p32)\n",
    "\n",
    "    eq3=-p11*p21*p31*p42+p11*p21*p41*(1-p41)+p11*p21*p42*(1-p31)+p11*p21*(1-p31)*(1-p42)-p11*p21*(1-p42)*(p31+p42)\n",
    "\n",
    "    eq4=-p11*p21*p31*p41+p11*p21*p31*(1-p41)\n",
    "\n",
    "    eq5=p11*p32*p42*(1-p11)+p32*(1-p11)*(1-p42)*(p11+p42)+(1-p11)*(1-p22)+(1-p11)*(1-p32)*(p11+p32)-(1-p11)*(p11+p22)\n",
    "\n",
    "    eq6=p11*p21*p42*(1-p21)+p11*p22*p42*(1-p11)+p11*(1-p21)*(1-p32)+p11*(1-p21)*(1-p42)*(p21+p42)-p11*(1-p21)*(p21+p32)+p22*(1-p11)*(1-p32)+p22*(1-p11)*(1-p42)*(p11+p42)-p22*(1-p11)*(p11+p32)\n",
    "\n",
    "    eq7=p11*p21*p31*(1-p31)+p11*p21*p32*(1-p21)+p11*p21*(1-p31)*(1-p42)-p11*p21*(1-p31)*(p31+p42)+p11*p22*p32*(1-p11)+p11*p32*(1-p21)*(1-p42)-p11*p32*(1-p21)*(p21+p42)+p22*p32*(1-p11)*(1-p42)-p22*p32*(1-p11)*(p11+p42)\n",
    "\n",
    "    return [eq1, eq2, eq3, eq4, eq5, eq6, eq7]\n",
    "\n",
    "\n",
    "x0 = [0.5 for i in range(len(vars))]\n",
    "bounds = [(0, 1) for var in range(len(x0))]\n",
    "problem = minimize(lambda x: np.sum(np.square(equations(x))), x0, bounds=bounds)\n",
    "\n",
    "vars = [str(var) for var in vars]\n",
    "for var in range(len(vars)):\n",
    "    print(f'{vars[var]}: {np.round(problem.x[var],6)}')\n"
   ],
   "metadata": {
    "collapsed": false,
    "ExecuteTime": {
     "start_time": "2023-04-28T00:39:55.714529Z",
     "end_time": "2023-04-28T00:39:55.719797Z"
    }
   }
  },
  {
   "cell_type": "markdown",
   "source": [
    "# 3 Tickets - 4 persons:"
   ],
   "metadata": {
    "collapsed": false
   }
  },
  {
   "cell_type": "code",
   "execution_count": 137,
   "outputs": [],
   "source": [
    "p11, p21, p31, p41 = sp.symbols('p11, p21, p31, p41')\n",
    "p22, p32, p42      = sp.symbols('p22, p32, p42')\n",
    "p33, p43           = sp.symbols('p33, p43')\n",
    "\n",
    "vars = [p11, p21, p31, p41, p22, p32, p42, p33, p43]\n",
    "\n",
    "# Only 1 of 3 tickets bought amongst 4 persons\n",
    "term1 = p11*(1-p11)*(1-(1-p22))*(1-(1-p32))*(1-(1-p42))\n",
    "term2 = p21*(1-(1-p11))*(1-p21)*(1-(1-p32))*(1-(1-p42))\n",
    "term3 = p31*(1-(1-p11))*(1-(1-p21))*(1-p31)*(1-(1-p42))\n",
    "term4 = p41*(1-(1-p11))*(1-(1-p21))*(1-(1-p31))*(1-p41)\n",
    "\n",
    "# 2 of 2 tickets bought amongst 4 persons\n",
    "term5 = (p11+p22)*(1-p11)*(1-p22)*(1-(1-p33))*(1-(1-p43))\n",
    "term6 = (p11+p32)*(1-p11)*(1-(1-p22))*(1-p32)*(1-(1-p43))\n",
    "term7 = (p11+p42)*(1-p11)*(1-(1-p22))*(1-(1-p32))*(1-p42)\n",
    "term8 = (p21+p32)*(1-(1-p11))*(1-p21)*(1-p32)*(1-(1-p43))\n",
    "term9 = (p21+p42)*(1-(1-p11))*(1-p21)*(1-(1-p32))*(1-p42)\n",
    "term10 = (p31+p42)*(1-(1-p11))*(1-(1-p21))*(1-p31)*(1-p42)\n",
    "\n",
    "# Only 3 of 3 tickets bought amongst 4 persons\n",
    "term11 = (p11+p22+p33)*(1-p11)*(1-p22)*(1-p33)\n",
    "term12 = (p11+p22+p43)*(1-p11)*(1-p22)*(1-(1-p33))*(1-p43)\n",
    "term13 = (p11+p32+p43)*(1-p11)*(1-(1-p22))*(1-p32)*(1-p43)\n",
    "term14 = (p21+p32+p43)*(1-(1-p11))*(1-p21)*(1-p32)*(1-p43)\n",
    "\n",
    "# Expectation\n",
    "expectation = term1 + term2 + term3 + term4 + \\\n",
    "              term5 + term6 + term7 + term8 + \\\n",
    "              term9 + term10 + term11 + term12 + \\\n",
    "              term13 + term14\n",
    "\n",
    "# Writing out diff equations to .txt file for easy Ctrl-C Ctrl-V\n",
    "file = open(\"4persons3tickets.txt\", \"w\")\n",
    "for idx, var in enumerate(vars):\n",
    "    __ = f\"eq{idx+1}=\"+str(sp.diff(expectation,var))\n",
    "    file.write(re.sub(r\"\\s+\", \"\", __)+\"\\n\\n\")\n",
    "file.close()"
   ],
   "metadata": {
    "collapsed": false,
    "ExecuteTime": {
     "start_time": "2023-04-28T00:39:55.740008Z",
     "end_time": "2023-04-28T00:39:55.742655Z"
    }
   }
  },
  {
   "cell_type": "code",
   "execution_count": 138,
   "outputs": [
    {
     "name": "stdout",
     "output_type": "stream",
     "text": [
      "p11: 0.525848\n",
      "p21: 0.5\n",
      "p31: 0.5\n",
      "p41: 0.5\n",
      "p22: 0.554691\n",
      "p32: 0.5\n",
      "p42: 0.5\n",
      "p33: 0.625006\n",
      "p43: 0.5\n"
     ]
    }
   ],
   "source": [
    "# 4 persons 3 tickets\n",
    "def equations(x):\n",
    "    p11, p21, p31, p41, p22, p32, p42, p33, p43 = x[0], x[1], x[2], x[3], x[4], x[5], x[6], x[7], x[8]\n",
    "\n",
    "    eq1=-p11*p22*p32*p42+p21*p31*p41*(1-p41)+p21*p31*p42*(1-p31)+p21*p32*p42*(1-p21)+p21*(1-p31)*(1-p42)*(p31+p42)+p22*p32*p42*(1-p11)+p22*p32*(1-p11)*(1-p42)-p22*p32*(1-p42)*(p11+p42)+p22*p43*(1-p11)*(1-p32)-p22*p43*(1-p32)*(p11+p32)+p22*(1-p11)*(1-p32)*(1-p43)-p22*(1-p32)*(1-p43)*(p11+p32+p43)+p32*(1-p21)*(1-p42)*(p21+p42)+p33*p43*(1-p11)*(1-p22)-p33*p43*(1-p22)*(p11+p22)+p33*(1-p11)*(1-p22)*(1-p43)-p33*(1-p22)*(1-p43)*(p11+p22+p43)+p43*(1-p21)*(1-p32)*(p21+p32)+(1-p11)*(1-p22)*(1-p33)+(1-p21)*(1-p32)*(1-p43)*(p21+p32+p43)-(1-p22)*(1-p33)*(p11+p22+p33)\n",
    "\n",
    "    eq2=-p11*p21*p32*p42+p11*p31*p41*(1-p41)+p11*p31*p42*(1-p31)+p11*p32*p42*(1-p21)+p11*p32*(1-p21)*(1-p42)-p11*p32*(1-p42)*(p21+p42)+p11*p43*(1-p21)*(1-p32)-p11*p43*(1-p32)*(p21+p32)+p11*(1-p21)*(1-p32)*(1-p43)+p11*(1-p31)*(1-p42)*(p31+p42)-p11*(1-p32)*(1-p43)*(p21+p32+p43)\n",
    "\n",
    "    eq3=-p11*p21*p31*p42+p11*p21*p41*(1-p41)+p11*p21*p42*(1-p31)+p11*p21*(1-p31)*(1-p42)-p11*p21*(1-p42)*(p31+p42)\n",
    "\n",
    "    eq4=-p11*p21*p31*p41+p11*p21*p31*(1-p41)\n",
    "\n",
    "    eq5=p11*p32*p42*(1-p11)+p32*(1-p11)*(1-p42)*(p11+p42)+p33*p43*(1-p11)*(1-p22)-p33*p43*(1-p11)*(p11+p22)+p33*(1-p11)*(1-p22)*(1-p43)-p33*(1-p11)*(1-p43)*(p11+p22+p43)+p43*(1-p11)*(1-p32)*(p11+p32)+(1-p11)*(1-p22)*(1-p33)+(1-p11)*(1-p32)*(1-p43)*(p11+p32+p43)-(1-p11)*(1-p33)*(p11+p22+p33)\n",
    "\n",
    "    eq6=p11*p21*p42*(1-p21)+p11*p22*p42*(1-p11)+p11*p43*(1-p21)*(1-p32)-p11*p43*(1-p21)*(p21+p32)+p11*(1-p21)*(1-p32)*(1-p43)+p11*(1-p21)*(1-p42)*(p21+p42)-p11*(1-p21)*(1-p43)*(p21+p32+p43)+p22*p43*(1-p11)*(1-p32)-p22*p43*(1-p11)*(p11+p32)+p22*(1-p11)*(1-p32)*(1-p43)+p22*(1-p11)*(1-p42)*(p11+p42)-p22*(1-p11)*(1-p43)*(p11+p32+p43)\n",
    "\n",
    "    eq7=p11*p21*p31*(1-p31)+p11*p21*p32*(1-p21)+p11*p21*(1-p31)*(1-p42)-p11*p21*(1-p31)*(p31+p42)+p11*p22*p32*(1-p11)+p11*p32*(1-p21)*(1-p42)-p11*p32*(1-p21)*(p21+p42)+p22*p32*(1-p11)*(1-p42)-p22*p32*(1-p11)*(p11+p42)\n",
    "\n",
    "    eq8=p43*(1-p11)*(1-p22)*(p11+p22)+(1-p11)*(1-p22)*(1-p33)+(1-p11)*(1-p22)*(1-p43)*(p11+p22+p43)-(1-p11)*(1-p22)*(p11+p22+p33)\n",
    "\n",
    "    eq9=p11*(1-p21)*(1-p32)*(1-p43)+p11*(1-p21)*(1-p32)*(p21+p32)-p11*(1-p21)*(1-p32)*(p21+p32+p43)+p22*(1-p11)*(1-p32)*(1-p43)+p22*(1-p11)*(1-p32)*(p11+p32)-p22*(1-p11)*(1-p32)*(p11+p32+p43)+p33*(1-p11)*(1-p22)*(1-p43)+p33*(1-p11)*(1-p22)*(p11+p22)-p33*(1-p11)*(1-p22)*(p11+p22+p43)\n",
    "\n",
    "\n",
    "    return [eq1, eq2, eq3, eq4, eq5, eq6, eq7, eq8, eq9]\n",
    "\n",
    "\n",
    "x0 = [0.5 for i in range(len(vars))]\n",
    "bounds = [(0, 1) for var in range(len(x0))]\n",
    "problem = minimize(lambda x: np.sum(np.square(equations(x))), x0, bounds=bounds)\n",
    "\n",
    "vars = [str(var) for var in vars]\n",
    "for var in range(len(vars)):\n",
    "    print(f'{vars[var]}: {np.round(problem.x[var],6)}')\n"
   ],
   "metadata": {
    "collapsed": false,
    "ExecuteTime": {
     "start_time": "2023-04-28T00:39:55.753086Z",
     "end_time": "2023-04-28T00:39:55.759954Z"
    }
   }
  },
  {
   "cell_type": "code",
   "execution_count": 138,
   "outputs": [],
   "source": [],
   "metadata": {
    "collapsed": false,
    "ExecuteTime": {
     "start_time": "2023-04-28T00:39:55.760303Z",
     "end_time": "2023-04-28T00:39:55.762039Z"
    }
   }
  }
 ],
 "metadata": {
  "kernelspec": {
   "display_name": "Python 3",
   "language": "python",
   "name": "python3"
  },
  "language_info": {
   "codemirror_mode": {
    "name": "ipython",
    "version": 2
   },
   "file_extension": ".py",
   "mimetype": "text/x-python",
   "name": "python",
   "nbconvert_exporter": "python",
   "pygments_lexer": "ipython2",
   "version": "2.7.6"
  }
 },
 "nbformat": 4,
 "nbformat_minor": 0
}
