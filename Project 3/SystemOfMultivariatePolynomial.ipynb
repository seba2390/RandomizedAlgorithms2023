{
 "cells": [
  {
   "cell_type": "code",
   "execution_count": 154,
   "outputs": [],
   "source": [
    "import re\n",
    "import sympy as sp\n",
    "import numpy as np\n",
    "from scipy.optimize import minimize\n",
    "from typing import List, Tuple"
   ],
   "metadata": {
    "collapsed": false,
    "ExecuteTime": {
     "start_time": "2023-04-28T00:51:10.650279Z",
     "end_time": "2023-04-28T00:51:10.656612Z"
    }
   }
  },
  {
   "cell_type": "code",
   "execution_count": 155,
   "outputs": [],
   "source": [
    "def optimize_equations(symbols: List[sp.Symbol], equations: List[sp.Expr],\n",
    "                       initial_guess: List[float]) -> np.ndarray:\n",
    "    \"\"\"\n",
    "    Given a list of symbols, a list of equations, and an initial guess, optimize the values of the symbols\n",
    "    that minimize the sum of squares of the equations using the scipy.optimize.minimize function.\n",
    "    Returns an array of optimized values of the symbols.\n",
    "\n",
    "    Args:\n",
    "        symbols: A list of sympy symbols to optimize.\n",
    "        equations: A list of sympy expressions representing the equations to solve.\n",
    "        initial_guess: A list of initial guesses for the values of the symbols.\n",
    "\n",
    "    Returns:\n",
    "        An array of optimized values of the symbols.\n",
    "\n",
    "    Raises:\n",
    "        ValueError: If the length of symbols and initial_guess does not match.\n",
    "    \"\"\"\n",
    "    if len(symbols) != len(initial_guess):\n",
    "        raise ValueError(\"Length of symbols and initial_guess must match\")\n",
    "\n",
    "    # Create a function that takes in the values of the symbols and returns the equation\n",
    "    f = sp.lambdify(symbols, equations)\n",
    "\n",
    "    # Define the optimization problem\n",
    "    _bounds = [(0, 1) for var in symbols]\n",
    "    _problem = minimize(lambda x: np.sum(np.square(f(*x))), initial_guess, bounds=_bounds)\n",
    "\n",
    "    # Print the optimized values\n",
    "    for i in range(len(symbols)):\n",
    "        print(f'{symbols[i]}: {np.round(_problem.x[i], 6)}')\n",
    "\n",
    "    return _problem.x"
   ],
   "metadata": {
    "collapsed": false,
    "ExecuteTime": {
     "start_time": "2023-04-28T00:51:10.652153Z",
     "end_time": "2023-04-28T00:51:10.657256Z"
    }
   }
  },
  {
   "cell_type": "markdown",
   "source": [
    "# 2 tickets - 3 persons:"
   ],
   "metadata": {
    "collapsed": false
   }
  },
  {
   "cell_type": "code",
   "execution_count": 156,
   "outputs": [
    {
     "name": "stdout",
     "output_type": "stream",
     "text": [
      "p11: 0.554688\n",
      "p21: 0.5\n",
      "p22: 0.625\n",
      "p31: 0.5\n",
      "p32: 0.5\n"
     ]
    }
   ],
   "source": [
    "p11, p21, p22, p31, p32 = sp.symbols(\"p11, p21, p22, p31, p32\")\n",
    "vars = [p11, p21, p22, p31, p32]\n",
    "# only 1 of 2 tickets bought amongst 3 persons\n",
    "term1 = p11*(1-p11)*(1-(1-p22))*(1-(1-p32))\n",
    "term2 = p21*(1-(1-p11))*(1-p21)*(1-(1-p32))\n",
    "term3 = p31*(1-(1-p11))*(1-(1-p21))*(1-p31)\n",
    "# 2 of 2 tickets bought amongst 3 persons\n",
    "term4 = (p11+p22)*(1-p11)*(1-p22)\n",
    "term5 = (p11+p32)*(1-p11)*(1-(1-p22))*(1-p32)\n",
    "term6 = (p21+p32)*(1-(1-p11))*(1-p21)*(1-p32)\n",
    "expectation = term1+term2+term3+term4+term5+term6\n",
    "\n",
    "# Writing out diff equations to .txt file for easy Ctrl-C Ctrl-V\n",
    "file = open(\"3persons2tickets.txt\", \"w\")\n",
    "for idx, var in enumerate(vars):\n",
    "    __ = f\"eq{idx+1}=\"+str(sp.diff(expectation,var))\n",
    "    file.write(re.sub(r\"\\s+\", \"\", __)+\"\\n\\n\")\n",
    "file.close()\n",
    "\n",
    "equations = [sp.diff(expectation, var) for var in vars]\n",
    "initial_guess = [0.5 for i in range(len(vars))]\n",
    "_ = optimize_equations(vars, equations, initial_guess)"
   ],
   "metadata": {
    "collapsed": false,
    "ExecuteTime": {
     "start_time": "2023-04-28T00:51:10.659610Z",
     "end_time": "2023-04-28T00:51:10.676313Z"
    }
   }
  },
  {
   "cell_type": "markdown",
   "source": [
    "# 2 tickets - 4 persons:"
   ],
   "metadata": {
    "collapsed": false
   }
  },
  {
   "cell_type": "code",
   "execution_count": 157,
   "outputs": [
    {
     "name": "stdout",
     "output_type": "stream",
     "text": [
      "p11: 0.607422\n",
      "p21: 0.554686\n",
      "p31: 0.5\n",
      "p41: 0.5\n",
      "p22: 0.695312\n",
      "p32: 0.625\n",
      "p42: 0.5\n"
     ]
    }
   ],
   "source": [
    "p11, p21, p31, p41 = sp.symbols('p11, p21, p31, p41')\n",
    "p22, p32, p42      = sp.symbols('p22, p32, p42')\n",
    "\n",
    "vars = [p11, p21, p31, p41, p22, p32, p42]\n",
    "\n",
    "# Only 1 of 3 tickets bought amongst 4 persons\n",
    "term1 = p11*(1-p11)*(1-(1-p22))*(1-(1-p32))*(1-(1-p42))\n",
    "term2 = p21*(1-(1-p11))*(1-p21)*(1-(1-p32))*(1-(1-p42))\n",
    "term3 = p31*(1-(1-p11))*(1-(1-p21))*(1-p31)*(1-(1-p42))\n",
    "term4 = p41*(1-(1-p11))*(1-(1-p21))*(1-(1-p31))*(1-p41)\n",
    "\n",
    "# 2 of 2 tickets bought amongst 4 persons\n",
    "term5 = (p11+p22)*(1-p11)*(1-p22)\n",
    "term6 = (p11+p32)*(1-p11)*(1-(1-p22))*(1-p32)\n",
    "term7 = (p11+p42)*(1-p11)*(1-(1-p22))*(1-(1-p32))*(1-p42)\n",
    "term8 = (p21+p32)*(1-(1-p11))*(1-p21)*(1-p32)\n",
    "term9 = (p21+p42)*(1-(1-p11))*(1-p21)*(1-(1-p32))*(1-p42)\n",
    "term10 = (p31+p42)*(1-(1-p11))*(1-(1-p21))*(1-p31)*(1-p42)\n",
    "\n",
    "# Expectation\n",
    "expectation = term1 + term2 + term3 + term4 + \\\n",
    "              term5 + term6 + term7 + term8 + \\\n",
    "              term9 + term10\n",
    "\n",
    "# Writing out diff equations to .txt file for easy Ctrl-C Ctrl-V\n",
    "file = open(\"4persons2tickets.txt\", \"w\")\n",
    "for idx, var in enumerate(vars):\n",
    "    __ = f\"eq{idx+1}=\"+str(sp.diff(expectation,var))\n",
    "    file.write(re.sub(r\"\\s+\", \"\", __)+\"\\n\\n\")\n",
    "file.close()\n",
    "\n",
    "equations = [sp.diff(expectation, var) for var in vars]\n",
    "initial_guess = [0.5 for i in range(len(vars))]\n",
    "_ = optimize_equations(vars, equations, initial_guess)"
   ],
   "metadata": {
    "collapsed": false,
    "ExecuteTime": {
     "start_time": "2023-04-28T00:51:10.674823Z",
     "end_time": "2023-04-28T00:51:10.744132Z"
    }
   }
  },
  {
   "cell_type": "markdown",
   "source": [
    "# 3 Tickets - 4 persons:"
   ],
   "metadata": {
    "collapsed": false
   }
  },
  {
   "cell_type": "code",
   "execution_count": 158,
   "outputs": [
    {
     "name": "stdout",
     "output_type": "stream",
     "text": [
      "p11: 0.525848\n",
      "p21: 0.5\n",
      "p31: 0.5\n",
      "p41: 0.5\n",
      "p22: 0.554691\n",
      "p32: 0.5\n",
      "p42: 0.5\n",
      "p33: 0.625006\n",
      "p43: 0.5\n"
     ]
    }
   ],
   "source": [
    "p11, p21, p31, p41 = sp.symbols('p11, p21, p31, p41')\n",
    "p22, p32, p42      = sp.symbols('p22, p32, p42')\n",
    "p33, p43           = sp.symbols('p33, p43')\n",
    "\n",
    "vars = [p11, p21, p31, p41, p22, p32, p42, p33, p43]\n",
    "\n",
    "# Only 1 of 3 tickets bought amongst 4 persons\n",
    "term1 = p11*(1-p11)*(1-(1-p22))*(1-(1-p32))*(1-(1-p42))\n",
    "term2 = p21*(1-(1-p11))*(1-p21)*(1-(1-p32))*(1-(1-p42))\n",
    "term3 = p31*(1-(1-p11))*(1-(1-p21))*(1-p31)*(1-(1-p42))\n",
    "term4 = p41*(1-(1-p11))*(1-(1-p21))*(1-(1-p31))*(1-p41)\n",
    "\n",
    "# 2 of 2 tickets bought amongst 4 persons\n",
    "term5 = (p11+p22)*(1-p11)*(1-p22)*(1-(1-p33))*(1-(1-p43))\n",
    "term6 = (p11+p32)*(1-p11)*(1-(1-p22))*(1-p32)*(1-(1-p43))\n",
    "term7 = (p11+p42)*(1-p11)*(1-(1-p22))*(1-(1-p32))*(1-p42)\n",
    "term8 = (p21+p32)*(1-(1-p11))*(1-p21)*(1-p32)*(1-(1-p43))\n",
    "term9 = (p21+p42)*(1-(1-p11))*(1-p21)*(1-(1-p32))*(1-p42)\n",
    "term10 = (p31+p42)*(1-(1-p11))*(1-(1-p21))*(1-p31)*(1-p42)\n",
    "\n",
    "# Only 3 of 3 tickets bought amongst 4 persons\n",
    "term11 = (p11+p22+p33)*(1-p11)*(1-p22)*(1-p33)\n",
    "term12 = (p11+p22+p43)*(1-p11)*(1-p22)*(1-(1-p33))*(1-p43)\n",
    "term13 = (p11+p32+p43)*(1-p11)*(1-(1-p22))*(1-p32)*(1-p43)\n",
    "term14 = (p21+p32+p43)*(1-(1-p11))*(1-p21)*(1-p32)*(1-p43)\n",
    "\n",
    "# Expectation\n",
    "expectation = term1 + term2 + term3 + term4 + \\\n",
    "              term5 + term6 + term7 + term8 + \\\n",
    "              term9 + term10 + term11 + term12 + \\\n",
    "              term13 + term14\n",
    "\n",
    "# Writing out diff equations to .txt file for easy Ctrl-C Ctrl-V\n",
    "file = open(\"4persons3tickets.txt\", \"w\")\n",
    "for idx, var in enumerate(vars):\n",
    "    __ = f\"eq{idx+1}=\"+str(sp.diff(expectation,var))\n",
    "    file.write(re.sub(r\"\\s+\", \"\", __)+\"\\n\\n\")\n",
    "file.close()\n",
    "\n",
    "equations = [sp.diff(expectation, var) for var in vars]\n",
    "initial_guess = [0.5 for i in range(len(vars))]\n",
    "_ = optimize_equations(vars, equations, initial_guess)"
   ],
   "metadata": {
    "collapsed": false,
    "ExecuteTime": {
     "start_time": "2023-04-28T00:51:10.749807Z",
     "end_time": "2023-04-28T00:51:10.795332Z"
    }
   }
  }
 ],
 "metadata": {
  "kernelspec": {
   "display_name": "Python 3",
   "language": "python",
   "name": "python3"
  },
  "language_info": {
   "codemirror_mode": {
    "name": "ipython",
    "version": 2
   },
   "file_extension": ".py",
   "mimetype": "text/x-python",
   "name": "python",
   "nbconvert_exporter": "python",
   "pygments_lexer": "ipython2",
   "version": "2.7.6"
  }
 },
 "nbformat": 4,
 "nbformat_minor": 0
}
