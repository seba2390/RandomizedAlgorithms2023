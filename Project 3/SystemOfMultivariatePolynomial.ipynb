{
 "cells": [
  {
   "cell_type": "markdown",
   "source": [
    "# Using sympy:"
   ],
   "metadata": {
    "collapsed": false
   }
  },
  {
   "cell_type": "code",
   "execution_count": 168,
   "outputs": [],
   "source": [
    "import sympy as sp"
   ],
   "metadata": {
    "collapsed": false,
    "ExecuteTime": {
     "start_time": "2023-04-26T20:40:12.720186Z",
     "end_time": "2023-04-26T20:40:12.725861Z"
    }
   }
  },
  {
   "cell_type": "code",
   "execution_count": 219,
   "outputs": [
    {
     "ename": "SympifyError",
     "evalue": "SympifyError: [Eq(-p11*p22*p32 + p21*p31*(1 - p31) + p21*p32*(1 - p21) + p22*p32*(1 - p11) + p22*(1 - p11)*(1 - p32) - p22*(1 - p32)*(p11 + p32) + (1 - p11)*(1 - p22) + (1 - p21)*(1 - p32)*(p21 + p32) - (1 - p22)*(p11 + p22), 0), Eq(-p11*p21*p32 + p11*p31*(1 - p31) + p11*p32*(1 - p21) + p11*(1 - p21)*(1 - p32) - p11*(1 - p32)*(p21 + p32), 0), Eq(p11*p32*(1 - p11) + (1 - p11)*(1 - p22) + (1 - p11)*(1 - p32)*(p11 + p32) - (1 - p11)*(p11 + p22), 0), Eq(-p11*p21*p31 + p11*p21*(1 - p31), 0), Eq(p11*p21*(1 - p21) + p11*p22*(1 - p11) + p11*(1 - p21)*(1 - p32) - p11*(1 - p21)*(p21 + p32) + p22*(1 - p11)*(1 - p32) - p22*(1 - p11)*(p11 + p32), 0)]",
     "output_type": "error",
     "traceback": [
      "\u001B[0;31m---------------------------------------------------------------------------\u001B[0m",
      "\u001B[0;31mSympifyError\u001B[0m                              Traceback (most recent call last)",
      "Cell \u001B[0;32mIn [219], line 27\u001B[0m\n\u001B[1;32m     20\u001B[0m constraints \u001B[38;5;241m=\u001B[39m [p11 \u001B[38;5;241m>\u001B[39m \u001B[38;5;241m0\u001B[39m, p11 \u001B[38;5;241m<\u001B[39m \u001B[38;5;241m1\u001B[39m,\n\u001B[1;32m     21\u001B[0m                p21 \u001B[38;5;241m>\u001B[39m \u001B[38;5;241m0\u001B[39m, p21 \u001B[38;5;241m<\u001B[39m \u001B[38;5;241m1\u001B[39m,\n\u001B[1;32m     22\u001B[0m                p22 \u001B[38;5;241m>\u001B[39m \u001B[38;5;241m0\u001B[39m, p22 \u001B[38;5;241m<\u001B[39m \u001B[38;5;241m1\u001B[39m,\n\u001B[1;32m     23\u001B[0m                p31 \u001B[38;5;241m>\u001B[39m \u001B[38;5;241m0\u001B[39m, p31 \u001B[38;5;241m<\u001B[39m \u001B[38;5;241m1\u001B[39m,\n\u001B[1;32m     24\u001B[0m                p32 \u001B[38;5;241m>\u001B[39m \u001B[38;5;241m0\u001B[39m, p32 \u001B[38;5;241m<\u001B[39m \u001B[38;5;241m1\u001B[39m]\n\u001B[1;32m     26\u001B[0m \u001B[38;5;66;03m# Convert the equations and constraints into a single boolean expression\u001B[39;00m\n\u001B[0;32m---> 27\u001B[0m expressions \u001B[38;5;241m=\u001B[39m [\u001B[43msp\u001B[49m\u001B[38;5;241;43m.\u001B[39;49m\u001B[43mAnd\u001B[49m\u001B[43m(\u001B[49m\u001B[43m(\u001B[49m\u001B[43m[\u001B[49m\u001B[43msp\u001B[49m\u001B[38;5;241;43m.\u001B[39;49m\u001B[43mEq\u001B[49m\u001B[43m(\u001B[49m\u001B[43mequation\u001B[49m\u001B[43m,\u001B[49m\u001B[38;5;241;43m0\u001B[39;49m\u001B[43m)\u001B[49m\u001B[43m \u001B[49m\u001B[38;5;28;43;01mfor\u001B[39;49;00m\u001B[43m \u001B[49m\u001B[43mequation\u001B[49m\u001B[43m \u001B[49m\u001B[38;5;129;43;01min\u001B[39;49;00m\u001B[43m \u001B[49m\u001B[43mequations\u001B[49m\u001B[43m]\u001B[49m\u001B[43m)\u001B[49m\u001B[43m)\u001B[49m]\n\u001B[1;32m     28\u001B[0m sp\u001B[38;5;241m.\u001B[39mAnd(sp\u001B[38;5;241m.\u001B[39mEq(equations[\u001B[38;5;241m0\u001B[39m],\u001B[38;5;241m0\u001B[39m),p11 \u001B[38;5;241m>\u001B[39m \u001B[38;5;241m0\u001B[39m, p11 \u001B[38;5;241m<\u001B[39m \u001B[38;5;241m1\u001B[39m)\n",
      "File \u001B[0;32m~/miniforge3/lib/python3.10/site-packages/sympy/core/operations.py:512\u001B[0m, in \u001B[0;36mLatticeOp.__new__\u001B[0;34m(cls, *args, **options)\u001B[0m\n\u001B[1;32m    505\u001B[0m args \u001B[38;5;241m=\u001B[39m (_sympify_(arg) \u001B[38;5;28;01mfor\u001B[39;00m arg \u001B[38;5;129;01min\u001B[39;00m args)\n\u001B[1;32m    507\u001B[0m \u001B[38;5;28;01mtry\u001B[39;00m:\n\u001B[1;32m    508\u001B[0m     \u001B[38;5;66;03m# /!\\ args is a generator and _new_args_filter\u001B[39;00m\n\u001B[1;32m    509\u001B[0m     \u001B[38;5;66;03m# must be careful to handle as such; this\u001B[39;00m\n\u001B[1;32m    510\u001B[0m     \u001B[38;5;66;03m# is done so short-circuiting can be done\u001B[39;00m\n\u001B[1;32m    511\u001B[0m     \u001B[38;5;66;03m# without having to sympify all values\u001B[39;00m\n\u001B[0;32m--> 512\u001B[0m     _args \u001B[38;5;241m=\u001B[39m \u001B[38;5;28mfrozenset\u001B[39m(\u001B[38;5;28;43mcls\u001B[39;49m\u001B[38;5;241;43m.\u001B[39;49m\u001B[43m_new_args_filter\u001B[49m\u001B[43m(\u001B[49m\u001B[43margs\u001B[49m\u001B[43m)\u001B[49m)\n\u001B[1;32m    513\u001B[0m \u001B[38;5;28;01mexcept\u001B[39;00m ShortCircuit:\n\u001B[1;32m    514\u001B[0m     \u001B[38;5;28;01mreturn\u001B[39;00m sympify(\u001B[38;5;28mcls\u001B[39m\u001B[38;5;241m.\u001B[39mzero)\n",
      "File \u001B[0;32m~/miniforge3/lib/python3.10/site-packages/sympy/logic/boolalg.py:606\u001B[0m, in \u001B[0;36mAnd._new_args_filter\u001B[0;34m(cls, args)\u001B[0m\n\u001B[1;32m    604\u001B[0m \u001B[38;5;129m@classmethod\u001B[39m\n\u001B[1;32m    605\u001B[0m \u001B[38;5;28;01mdef\u001B[39;00m \u001B[38;5;21m_new_args_filter\u001B[39m(\u001B[38;5;28mcls\u001B[39m, args):\n\u001B[0;32m--> 606\u001B[0m     args \u001B[38;5;241m=\u001B[39m \u001B[43mBooleanFunction\u001B[49m\u001B[38;5;241;43m.\u001B[39;49m\u001B[43mbinary_check_and_simplify\u001B[49m\u001B[43m(\u001B[49m\u001B[38;5;241;43m*\u001B[39;49m\u001B[43margs\u001B[49m\u001B[43m)\u001B[49m\n\u001B[1;32m    607\u001B[0m     args \u001B[38;5;241m=\u001B[39m LatticeOp\u001B[38;5;241m.\u001B[39m_new_args_filter(args, And)\n\u001B[1;32m    608\u001B[0m     newargs \u001B[38;5;241m=\u001B[39m []\n",
      "File \u001B[0;32m~/miniforge3/lib/python3.10/site-packages/sympy/core/operations.py:505\u001B[0m, in \u001B[0;36m<genexpr>\u001B[0;34m(.0)\u001B[0m\n\u001B[1;32m    504\u001B[0m \u001B[38;5;28;01mdef\u001B[39;00m \u001B[38;5;21m__new__\u001B[39m(\u001B[38;5;28mcls\u001B[39m, \u001B[38;5;241m*\u001B[39margs, \u001B[38;5;241m*\u001B[39m\u001B[38;5;241m*\u001B[39moptions):\n\u001B[0;32m--> 505\u001B[0m     args \u001B[38;5;241m=\u001B[39m (\u001B[43m_sympify_\u001B[49m\u001B[43m(\u001B[49m\u001B[43marg\u001B[49m\u001B[43m)\u001B[49m \u001B[38;5;28;01mfor\u001B[39;00m arg \u001B[38;5;129;01min\u001B[39;00m args)\n\u001B[1;32m    507\u001B[0m     \u001B[38;5;28;01mtry\u001B[39;00m:\n\u001B[1;32m    508\u001B[0m         \u001B[38;5;66;03m# /!\\ args is a generator and _new_args_filter\u001B[39;00m\n\u001B[1;32m    509\u001B[0m         \u001B[38;5;66;03m# must be careful to handle as such; this\u001B[39;00m\n\u001B[1;32m    510\u001B[0m         \u001B[38;5;66;03m# is done so short-circuiting can be done\u001B[39;00m\n\u001B[1;32m    511\u001B[0m         \u001B[38;5;66;03m# without having to sympify all values\u001B[39;00m\n\u001B[1;32m    512\u001B[0m         _args \u001B[38;5;241m=\u001B[39m \u001B[38;5;28mfrozenset\u001B[39m(\u001B[38;5;28mcls\u001B[39m\u001B[38;5;241m.\u001B[39m_new_args_filter(args))\n",
      "File \u001B[0;32m~/miniforge3/lib/python3.10/site-packages/sympy/core/sympify.py:529\u001B[0m, in \u001B[0;36m_sympify\u001B[0;34m(a)\u001B[0m\n\u001B[1;32m    503\u001B[0m \u001B[38;5;28;01mdef\u001B[39;00m \u001B[38;5;21m_sympify\u001B[39m(a):\n\u001B[1;32m    504\u001B[0m     \u001B[38;5;124;03m\"\"\"\u001B[39;00m\n\u001B[1;32m    505\u001B[0m \u001B[38;5;124;03m    Short version of :func:`~.sympify` for internal usage for ``__add__`` and\u001B[39;00m\n\u001B[1;32m    506\u001B[0m \u001B[38;5;124;03m    ``__eq__`` methods where it is ok to allow some things (like Python\u001B[39;00m\n\u001B[0;32m   (...)\u001B[0m\n\u001B[1;32m    527\u001B[0m \n\u001B[1;32m    528\u001B[0m \u001B[38;5;124;03m    \"\"\"\u001B[39;00m\n\u001B[0;32m--> 529\u001B[0m     \u001B[38;5;28;01mreturn\u001B[39;00m \u001B[43msympify\u001B[49m\u001B[43m(\u001B[49m\u001B[43ma\u001B[49m\u001B[43m,\u001B[49m\u001B[43m \u001B[49m\u001B[43mstrict\u001B[49m\u001B[38;5;241;43m=\u001B[39;49m\u001B[38;5;28;43;01mTrue\u001B[39;49;00m\u001B[43m)\u001B[49m\n",
      "File \u001B[0;32m~/miniforge3/lib/python3.10/site-packages/sympy/core/sympify.py:450\u001B[0m, in \u001B[0;36msympify\u001B[0;34m(a, locals, convert_xor, strict, rational, evaluate)\u001B[0m\n\u001B[1;32m    447\u001B[0m                 \u001B[38;5;28;01mcontinue\u001B[39;00m\n\u001B[1;32m    449\u001B[0m \u001B[38;5;28;01mif\u001B[39;00m strict:\n\u001B[0;32m--> 450\u001B[0m     \u001B[38;5;28;01mraise\u001B[39;00m SympifyError(a)\n\u001B[1;32m    452\u001B[0m \u001B[38;5;28;01mif\u001B[39;00m iterable(a):\n\u001B[1;32m    453\u001B[0m     \u001B[38;5;28;01mtry\u001B[39;00m:\n",
      "\u001B[0;31mSympifyError\u001B[0m: SympifyError: [Eq(-p11*p22*p32 + p21*p31*(1 - p31) + p21*p32*(1 - p21) + p22*p32*(1 - p11) + p22*(1 - p11)*(1 - p32) - p22*(1 - p32)*(p11 + p32) + (1 - p11)*(1 - p22) + (1 - p21)*(1 - p32)*(p21 + p32) - (1 - p22)*(p11 + p22), 0), Eq(-p11*p21*p32 + p11*p31*(1 - p31) + p11*p32*(1 - p21) + p11*(1 - p21)*(1 - p32) - p11*(1 - p32)*(p21 + p32), 0), Eq(p11*p32*(1 - p11) + (1 - p11)*(1 - p22) + (1 - p11)*(1 - p32)*(p11 + p32) - (1 - p11)*(p11 + p22), 0), Eq(-p11*p21*p31 + p11*p21*(1 - p31), 0), Eq(p11*p21*(1 - p21) + p11*p22*(1 - p11) + p11*(1 - p21)*(1 - p32) - p11*(1 - p21)*(p21 + p32) + p22*(1 - p11)*(1 - p32) - p22*(1 - p11)*(p11 + p32), 0)]"
     ]
    }
   ],
   "source": [
    "p11, p21, p22, p31, p32 = sp.symbols('p11, p21, p22, p31, p32',real=True)\n",
    "variables = [p11, p21, p22, p31, p32]\n",
    "# only 1 of 2 tickets bought amongst 3 persons\n",
    "term1 = p11*(1-p11)*(1-(1-p22))*(1-(1-p32))\n",
    "term2 = p21*(1-(1-p11))*(1-p21)*(1-(1-p32))\n",
    "term3 = p31*(1-(1-p11))*(1-(1-p21))*(1-p31)\n",
    "# 2 of 2 tickets bought amongst 3 persons\n",
    "term4 = (p11+p22)*(1-p11)*(1-p22)\n",
    "term5 = (p11+p32)*(1-p11)*(1-(1-p22))*(1-p32)\n",
    "term6 = (p21+p32)*(1-(1-p11))*(1-p21)*(1-p32)\n",
    "# Expectation\n",
    "Expectation = term1 + term2 + term3 + term4 + term5 + term6\n",
    "# System of equations:\n",
    "equations = [sp.diff(Expectation,p11),\n",
    "             sp.diff(Expectation,p21),\n",
    "             sp.diff(Expectation,p22),\n",
    "             sp.diff(Expectation,p31),\n",
    "             sp.diff(Expectation,p32)]\n",
    "# Constraints:\n",
    "constraints = [p11 > 0, p11 < 1,\n",
    "               p21 > 0, p21 < 1,\n",
    "               p22 > 0, p22 < 1,\n",
    "               p31 > 0, p31 < 1,\n",
    "               p32 > 0, p32 < 1]\n",
    "\n",
    "# Convert the equations and constraints into a single boolean expression\n",
    "expressions = [sp.And(([sp.Eq(equation,0) for equation in equations]))]\n",
    "sp.And(sp.Eq(equations[0],0),p11 > 0, p11 < 1)\n"
   ],
   "metadata": {
    "collapsed": false,
    "ExecuteTime": {
     "start_time": "2023-04-26T21:05:58.956334Z",
     "end_time": "2023-04-26T21:05:58.958290Z"
    }
   }
  },
  {
   "cell_type": "code",
   "execution_count": 209,
   "outputs": [
    {
     "data": {
      "text/plain": "EmptySet",
      "text/latex": "$\\displaystyle \\emptyset$"
     },
     "execution_count": 209,
     "metadata": {},
     "output_type": "execute_result"
    }
   ],
   "source": [
    "solutions = sp.solveset(expression, [p11, p21, p22, p31, p32], domain=sp.Interval(0, 1))\n",
    "solutions"
   ],
   "metadata": {
    "collapsed": false,
    "ExecuteTime": {
     "start_time": "2023-04-26T21:01:10.396971Z",
     "end_time": "2023-04-26T21:01:10.398643Z"
    }
   }
  },
  {
   "cell_type": "code",
   "execution_count": 200,
   "metadata": {
    "collapsed": true,
    "ExecuteTime": {
     "start_time": "2023-04-26T20:40:12.741210Z",
     "end_time": "2023-04-26T20:40:12.744515Z"
    }
   },
   "outputs": [
    {
     "ename": "NotImplementedError",
     "evalue": "\nonly zero-dimensional systems supported (finite number of solutions)",
     "output_type": "error",
     "traceback": [
      "\u001B[0;31m---------------------------------------------------------------------------\u001B[0m",
      "\u001B[0;31mNotImplementedError\u001B[0m                       Traceback (most recent call last)",
      "Cell \u001B[0;32mIn [200], line 1\u001B[0m\n\u001B[0;32m----> 1\u001B[0m \u001B[43msp\u001B[49m\u001B[38;5;241;43m.\u001B[39;49m\u001B[43msolve_poly_system\u001B[49m\u001B[43m(\u001B[49m\u001B[43mequations\u001B[49m\u001B[43m,\u001B[49m\u001B[43m \u001B[49m\u001B[43mp11\u001B[49m\u001B[43m,\u001B[49m\u001B[43m \u001B[49m\u001B[43mp21\u001B[49m\u001B[43m,\u001B[49m\u001B[43m \u001B[49m\u001B[43mp22\u001B[49m\u001B[43m,\u001B[49m\u001B[43m \u001B[49m\u001B[43mp31\u001B[49m\u001B[43m,\u001B[49m\u001B[43m \u001B[49m\u001B[43mp32\u001B[49m\u001B[43m,\u001B[49m\u001B[43m \u001B[49m\u001B[43mdomain\u001B[49m\u001B[38;5;241;43m=\u001B[39;49m\u001B[43msp\u001B[49m\u001B[38;5;241;43m.\u001B[39;49m\u001B[43mQQ\u001B[49m\u001B[43m)\u001B[49m\n",
      "File \u001B[0;32m~/miniforge3/lib/python3.10/site-packages/sympy/solvers/polysys.py:76\u001B[0m, in \u001B[0;36msolve_poly_system\u001B[0;34m(seq, strict, *gens, **args)\u001B[0m\n\u001B[1;32m     73\u001B[0m         \u001B[38;5;28;01mexcept\u001B[39;00m SolveFailed:\n\u001B[1;32m     74\u001B[0m             \u001B[38;5;28;01mpass\u001B[39;00m\n\u001B[0;32m---> 76\u001B[0m \u001B[38;5;28;01mreturn\u001B[39;00m \u001B[43msolve_generic\u001B[49m\u001B[43m(\u001B[49m\u001B[43mpolys\u001B[49m\u001B[43m,\u001B[49m\u001B[43m \u001B[49m\u001B[43mopt\u001B[49m\u001B[43m,\u001B[49m\u001B[43m \u001B[49m\u001B[43mstrict\u001B[49m\u001B[38;5;241;43m=\u001B[39;49m\u001B[43mstrict\u001B[49m\u001B[43m)\u001B[49m\n",
      "File \u001B[0;32m~/miniforge3/lib/python3.10/site-packages/sympy/solvers/polysys.py:326\u001B[0m, in \u001B[0;36msolve_generic\u001B[0;34m(polys, opt, strict)\u001B[0m\n\u001B[1;32m    323\u001B[0m     \u001B[38;5;28;01mreturn\u001B[39;00m solutions\n\u001B[1;32m    325\u001B[0m \u001B[38;5;28;01mtry\u001B[39;00m:\n\u001B[0;32m--> 326\u001B[0m     result \u001B[38;5;241m=\u001B[39m \u001B[43m_solve_reduced_system\u001B[49m\u001B[43m(\u001B[49m\u001B[43mpolys\u001B[49m\u001B[43m,\u001B[49m\u001B[43m \u001B[49m\u001B[43mopt\u001B[49m\u001B[38;5;241;43m.\u001B[39;49m\u001B[43mgens\u001B[49m\u001B[43m,\u001B[49m\u001B[43m \u001B[49m\u001B[43mentry\u001B[49m\u001B[38;5;241;43m=\u001B[39;49m\u001B[38;5;28;43;01mTrue\u001B[39;49;00m\u001B[43m)\u001B[49m\n\u001B[1;32m    327\u001B[0m \u001B[38;5;28;01mexcept\u001B[39;00m CoercionFailed:\n\u001B[1;32m    328\u001B[0m     \u001B[38;5;28;01mraise\u001B[39;00m \u001B[38;5;167;01mNotImplementedError\u001B[39;00m\n",
      "File \u001B[0;32m~/miniforge3/lib/python3.10/site-packages/sympy/solvers/polysys.py:315\u001B[0m, in \u001B[0;36msolve_generic.<locals>._solve_reduced_system\u001B[0;34m(system, gens, entry)\u001B[0m\n\u001B[1;32m    312\u001B[0m         \u001B[38;5;28;01mif\u001B[39;00m eq \u001B[38;5;129;01mis\u001B[39;00m \u001B[38;5;129;01mnot\u001B[39;00m S\u001B[38;5;241m.\u001B[39mZero:\n\u001B[1;32m    313\u001B[0m             new_system\u001B[38;5;241m.\u001B[39mappend(eq)\n\u001B[0;32m--> 315\u001B[0m     \u001B[38;5;28;01mfor\u001B[39;00m solution \u001B[38;5;129;01min\u001B[39;00m \u001B[43m_solve_reduced_system\u001B[49m\u001B[43m(\u001B[49m\u001B[43mnew_system\u001B[49m\u001B[43m,\u001B[49m\u001B[43m \u001B[49m\u001B[43mnew_gens\u001B[49m\u001B[43m)\u001B[49m:\n\u001B[1;32m    316\u001B[0m         solutions\u001B[38;5;241m.\u001B[39mappend(solution \u001B[38;5;241m+\u001B[39m (zero,))\n\u001B[1;32m    318\u001B[0m \u001B[38;5;28;01mif\u001B[39;00m solutions \u001B[38;5;129;01mand\u001B[39;00m \u001B[38;5;28mlen\u001B[39m(solutions[\u001B[38;5;241m0\u001B[39m]) \u001B[38;5;241m!=\u001B[39m \u001B[38;5;28mlen\u001B[39m(gens):\n",
      "File \u001B[0;32m~/miniforge3/lib/python3.10/site-packages/sympy/solvers/polysys.py:285\u001B[0m, in \u001B[0;36msolve_generic.<locals>._solve_reduced_system\u001B[0;34m(system, gens, entry)\u001B[0m\n\u001B[1;32m    283\u001B[0m     f \u001B[38;5;241m=\u001B[39m univariate\u001B[38;5;241m.\u001B[39mpop()\n\u001B[1;32m    284\u001B[0m \u001B[38;5;28;01melse\u001B[39;00m:\n\u001B[0;32m--> 285\u001B[0m     \u001B[38;5;28;01mraise\u001B[39;00m \u001B[38;5;167;01mNotImplementedError\u001B[39;00m(filldedent(\u001B[38;5;124m'''\u001B[39m\n\u001B[1;32m    286\u001B[0m \u001B[38;5;124m        only zero-dimensional systems supported\u001B[39m\n\u001B[1;32m    287\u001B[0m \u001B[38;5;124m        (finite number of solutions)\u001B[39m\n\u001B[1;32m    288\u001B[0m \u001B[38;5;124m        \u001B[39m\u001B[38;5;124m'''\u001B[39m))\n\u001B[1;32m    290\u001B[0m gens \u001B[38;5;241m=\u001B[39m f\u001B[38;5;241m.\u001B[39mgens\n\u001B[1;32m    291\u001B[0m gen \u001B[38;5;241m=\u001B[39m gens[\u001B[38;5;241m-\u001B[39m\u001B[38;5;241m1\u001B[39m]\n",
      "\u001B[0;31mNotImplementedError\u001B[0m: \nonly zero-dimensional systems supported (finite number of solutions)"
     ]
    }
   ],
   "source": [
    "sp.solve_poly_system(equations, p11, p21, p22, p31, p32, domain=sp.QQ)"
   ]
  },
  {
   "cell_type": "code",
   "execution_count": 171,
   "outputs": [
    {
     "data": {
      "text/plain": "[(0, 0)]"
     },
     "execution_count": 171,
     "metadata": {},
     "output_type": "execute_result"
    }
   ],
   "source": [
    "sp.solve_triangulated(equations, x, y)"
   ],
   "metadata": {
    "collapsed": false,
    "ExecuteTime": {
     "start_time": "2023-04-26T20:40:12.746145Z",
     "end_time": "2023-04-26T20:40:12.748390Z"
    }
   }
  },
  {
   "cell_type": "code",
   "execution_count": 172,
   "outputs": [
    {
     "data": {
      "text/plain": "[(0, 0), (2, -sqrt(2)), (2, sqrt(2))]"
     },
     "execution_count": 172,
     "metadata": {},
     "output_type": "execute_result"
    }
   ],
   "source": [
    "sp.solve(equations, x, y)"
   ],
   "metadata": {
    "collapsed": false,
    "ExecuteTime": {
     "start_time": "2023-04-26T20:40:12.755349Z",
     "end_time": "2023-04-26T20:40:12.757115Z"
    }
   }
  },
  {
   "cell_type": "code",
   "execution_count": 173,
   "outputs": [
    {
     "data": {
      "text/plain": "{(0, 0), (2, -sqrt(2)), (2, sqrt(2))}",
      "text/latex": "$\\displaystyle \\left\\{\\left( 0, \\  0\\right), \\left( 2, \\  - \\sqrt{2}\\right), \\left( 2, \\  \\sqrt{2}\\right)\\right\\}$"
     },
     "execution_count": 173,
     "metadata": {},
     "output_type": "execute_result"
    }
   ],
   "source": [
    "sp.nonlinsolve(equations,[x,y])"
   ],
   "metadata": {
    "collapsed": false,
    "ExecuteTime": {
     "start_time": "2023-04-26T20:40:12.772150Z",
     "end_time": "2023-04-26T20:40:12.795885Z"
    }
   }
  },
  {
   "cell_type": "code",
   "execution_count": 173,
   "outputs": [],
   "source": [],
   "metadata": {
    "collapsed": false,
    "ExecuteTime": {
     "start_time": "2023-04-26T20:40:12.774495Z",
     "end_time": "2023-04-26T20:40:12.796006Z"
    }
   }
  },
  {
   "cell_type": "code",
   "execution_count": 173,
   "outputs": [],
   "source": [],
   "metadata": {
    "collapsed": false,
    "ExecuteTime": {
     "start_time": "2023-04-26T20:40:12.776376Z",
     "end_time": "2023-04-26T20:40:12.796088Z"
    }
   }
  }
 ],
 "metadata": {
  "kernelspec": {
   "display_name": "Python 3",
   "language": "python",
   "name": "python3"
  },
  "language_info": {
   "codemirror_mode": {
    "name": "ipython",
    "version": 2
   },
   "file_extension": ".py",
   "mimetype": "text/x-python",
   "name": "python",
   "nbconvert_exporter": "python",
   "pygments_lexer": "ipython2",
   "version": "2.7.6"
  }
 },
 "nbformat": 4,
 "nbformat_minor": 0
}
