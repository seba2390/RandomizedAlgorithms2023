{
 "cells": [
  {
   "cell_type": "code",
   "execution_count": 404,
   "outputs": [],
   "source": [
    "from fractions import Fraction\n",
    "import re\n",
    "import sympy as sp\n",
    "import numpy as np\n",
    "from scipy.optimize import minimize\n",
    "from typing import *"
   ],
   "metadata": {
    "collapsed": false,
    "ExecuteTime": {
     "start_time": "2023-04-28T01:37:56.937418Z",
     "end_time": "2023-04-28T01:37:56.944886Z"
    }
   }
  },
  {
   "cell_type": "code",
   "execution_count": 405,
   "outputs": [],
   "source": [
    "def optimize_equations(symbols: List[sp.Symbol], equations: List[sp.Expr],\n",
    "                       initial_guess: Union[List[float],np.ndarray[float]]) -> np.ndarray:\n",
    "    \"\"\"\n",
    "    Given a list of symbols, a list of equations, and an initial guess, optimize the values of the symbols\n",
    "    that minimize the sum of squares of the equations using the scipy.optimize.minimize function.\n",
    "    Returns an array of optimized values of the symbols.\n",
    "\n",
    "    Args:\n",
    "        symbols: A list of sympy symbols to optimize.\n",
    "        equations: A list of sympy expressions representing the equations to solve.\n",
    "        initial_guess: A list of initial guesses for the values of the symbols.\n",
    "\n",
    "    Returns:\n",
    "        An array of optimized values of the symbols.\n",
    "\n",
    "    Raises:\n",
    "        ValueError: If the length of symbols and initial_guess does not match.\n",
    "    \"\"\"\n",
    "    if len(symbols) != len(initial_guess):\n",
    "        raise ValueError(\"Length of symbols and initial_guess must match\")\n",
    "\n",
    "    # Create a function that takes in the values of the symbols and returns the equation\n",
    "    f = sp.lambdify(symbols, equations)\n",
    "\n",
    "    # Define the optimization problem\n",
    "    _bounds = [(0, 1) for _var in symbols]\n",
    "    _problem = minimize(lambda x: np.sum(np.square(f(*x))), initial_guess, bounds=_bounds)\n",
    "\n",
    "    # Print the optimized values\n",
    "    for i in range(len(symbols)):\n",
    "        print(f'{symbols[i]}: {np.round(_problem.x[i], 6)}')\n",
    "\n",
    "    return _problem.x"
   ],
   "metadata": {
    "collapsed": false,
    "ExecuteTime": {
     "start_time": "2023-04-28T01:37:56.943573Z",
     "end_time": "2023-04-28T01:37:56.945613Z"
    }
   }
  },
  {
   "cell_type": "markdown",
   "source": [
    "# 2 tickets - 3 persons:"
   ],
   "metadata": {
    "collapsed": false
   }
  },
  {
   "cell_type": "code",
   "execution_count": 406,
   "outputs": [
    {
     "name": "stdout",
     "output_type": "stream",
     "text": [
      "p11: 0.554688\n",
      "p21: 0.5\n",
      "p22: 0.625\n",
      "p31: 0.5\n",
      "p32: 0.5\n",
      "\n",
      " == Corresponding to: == \n",
      "[[0.55469 0.     ]\n",
      " [0.5     0.625  ]\n",
      " [0.5     0.5    ]]\n"
     ]
    }
   ],
   "source": [
    "p11, p21, p31 = sp.symbols(\"p11, p21, p31\")\n",
    "p22, p32      = sp.symbols(\"p22, p32\")\n",
    "\n",
    "vars = [p11, p21, p22, p31, p32]\n",
    "# only 1 of 2 tickets bought amongst 3 persons\n",
    "term1 = p11*(1-p11)*(1-(1-p22))*(1-(1-p32))\n",
    "term2 = p21*(1-(1-p11))*(1-p21)*(1-(1-p32))\n",
    "term3 = p31*(1-(1-p11))*(1-(1-p21))*(1-p31)\n",
    "# 2 of 2 tickets bought amongst 3 persons\n",
    "term4 = (p11+p22)*(1-p11)*(1-p22)\n",
    "term5 = (p11+p32)*(1-p11)*(1-(1-p22))*(1-p32)\n",
    "term6 = (p21+p32)*(1-(1-p11))*(1-p21)*(1-p32)\n",
    "expectation = term1+term2+term3+term4+term5+term6\n",
    "\n",
    "# Writing out diff equations to .txt file for easy Ctrl-C Ctrl-V\n",
    "file = open(\"3persons2tickets.txt\", \"w\")\n",
    "for idx, var in enumerate(vars):\n",
    "    __ = f\"eq{idx+1}=\"+str(sp.diff(expectation,var))\n",
    "    file.write(re.sub(r\"\\s+\", \"\", __)+\"\\n\\n\")\n",
    "file.close()\n",
    "\n",
    "equations = [sp.diff(expectation, var) for var in vars]\n",
    "initial_guess = [0.5 for i in range(len(vars))]\n",
    "_ = optimize_equations(vars, equations, initial_guess)\n",
    "\n",
    "table = np.zeros(shape=(3,2))\n",
    "for idx, var in enumerate(vars):\n",
    "    col, row = int(str(var)[-1])-1, int(str(var)[-2])-1\n",
    "    table[row][col] = np.round(_[idx],5)\n",
    "print(\"\\n == Corresponding to: == \")\n",
    "print(table)"
   ],
   "metadata": {
    "collapsed": false,
    "ExecuteTime": {
     "start_time": "2023-04-28T01:37:56.952900Z",
     "end_time": "2023-04-28T01:37:56.968612Z"
    }
   }
  },
  {
   "cell_type": "markdown",
   "source": [
    "# 2 tickets - 4 persons:"
   ],
   "metadata": {
    "collapsed": false
   }
  },
  {
   "cell_type": "code",
   "execution_count": 407,
   "outputs": [
    {
     "name": "stdout",
     "output_type": "stream",
     "text": [
      "p11: 0.607422\n",
      "p21: 0.554686\n",
      "p31: 0.5\n",
      "p41: 0.5\n",
      "p22: 0.695312\n",
      "p32: 0.625\n",
      "p42: 0.5\n",
      "\n",
      " == Corresponding to: == \n",
      "[[0.60742 0.     ]\n",
      " [0.55469 0.69531]\n",
      " [0.5     0.625  ]\n",
      " [0.5     0.5    ]]\n"
     ]
    }
   ],
   "source": [
    "p11, p21, p31, p41 = sp.symbols('p11, p21, p31, p41')\n",
    "p22, p32, p42      = sp.symbols('p22, p32, p42')\n",
    "\n",
    "vars = [p11, p21, p31, p41, p22, p32, p42]\n",
    "\n",
    "# Only 1 of 3 tickets bought amongst 4 persons\n",
    "term1 = p11*(1-p11)*(1-(1-p22))*(1-(1-p32))*(1-(1-p42))\n",
    "term2 = p21*(1-(1-p11))*(1-p21)*(1-(1-p32))*(1-(1-p42))\n",
    "term3 = p31*(1-(1-p11))*(1-(1-p21))*(1-p31)*(1-(1-p42))\n",
    "term4 = p41*(1-(1-p11))*(1-(1-p21))*(1-(1-p31))*(1-p41)\n",
    "\n",
    "# 2 of 2 tickets bought amongst 4 persons\n",
    "term5 = (p11+p22)*(1-p11)*(1-p22)\n",
    "term6 = (p11+p32)*(1-p11)*(1-(1-p22))*(1-p32)\n",
    "term7 = (p11+p42)*(1-p11)*(1-(1-p22))*(1-(1-p32))*(1-p42)\n",
    "term8 = (p21+p32)*(1-(1-p11))*(1-p21)*(1-p32)\n",
    "term9 = (p21+p42)*(1-(1-p11))*(1-p21)*(1-(1-p32))*(1-p42)\n",
    "term10 = (p31+p42)*(1-(1-p11))*(1-(1-p21))*(1-p31)*(1-p42)\n",
    "\n",
    "# Expectation\n",
    "expectation = term1 + term2 + term3 + term4 + \\\n",
    "              term5 + term6 + term7 + term8 + \\\n",
    "              term9 + term10\n",
    "\n",
    "# Writing out diff equations to .txt file for easy Ctrl-C Ctrl-V\n",
    "file = open(\"4persons2tickets.txt\", \"w\")\n",
    "for idx, var in enumerate(vars):\n",
    "    __ = f\"eq{idx+1}=\"+str(sp.diff(expectation,var))\n",
    "    file.write(re.sub(r\"\\s+\", \"\", __)+\"\\n\\n\")\n",
    "file.close()\n",
    "\n",
    "equations = [sp.diff(expectation, var) for var in vars]\n",
    "initial_guess = [0.5 for i in range(len(vars))]\n",
    "_ = optimize_equations(vars, equations, initial_guess)\n",
    "table = np.zeros(shape=(4,2))\n",
    "for idx, var in enumerate(vars):\n",
    "    col, row = int(str(var)[-1])-1, int(str(var)[-2])-1\n",
    "    table[row][col] = np.round(_[idx],5)\n",
    "print(\"\\n == Corresponding to: == \")\n",
    "print(table)"
   ],
   "metadata": {
    "collapsed": false,
    "ExecuteTime": {
     "start_time": "2023-04-28T01:37:56.969039Z",
     "end_time": "2023-04-28T01:37:57.001451Z"
    }
   }
  },
  {
   "cell_type": "markdown",
   "source": [
    "# 3 Tickets - 4 persons:"
   ],
   "metadata": {
    "collapsed": false
   }
  },
  {
   "cell_type": "code",
   "execution_count": 408,
   "outputs": [
    {
     "name": "stdout",
     "output_type": "stream",
     "text": [
      "p11: 0.525848\n",
      "p21: 0.5\n",
      "p31: 0.5\n",
      "p41: 0.5\n",
      "p22: 0.554691\n",
      "p32: 0.5\n",
      "p42: 0.5\n",
      "p33: 0.625006\n",
      "p43: 0.5\n",
      "\n",
      " == Corresponding to: == \n",
      "[[0.52585 0.      0.     ]\n",
      " [0.5     0.55469 0.     ]\n",
      " [0.5     0.5     0.62501]\n",
      " [0.5     0.5     0.5    ]]\n"
     ]
    }
   ],
   "source": [
    "p11, p21, p31, p41 = sp.symbols('p11, p21, p31, p41')\n",
    "p22, p32, p42      = sp.symbols('p22, p32, p42')\n",
    "p33, p43           = sp.symbols('p33, p43')\n",
    "\n",
    "vars = [p11, p21, p31, p41, p22, p32, p42, p33, p43]\n",
    "\n",
    "# 1 of 3 tickets bought amongst 4 persons\n",
    "term1 = p11*(1-p11)*(1-(1-p22))*(1-(1-p32))*(1-(1-p42))\n",
    "term2 = p21*(1-(1-p11))*(1-p21)*(1-(1-p32))*(1-(1-p42))\n",
    "term3 = p31*(1-(1-p11))*(1-(1-p21))*(1-p31)*(1-(1-p42))\n",
    "term4 = p41*(1-(1-p11))*(1-(1-p21))*(1-(1-p31))*(1-p41)\n",
    "\n",
    "# 2 of 3 tickets bought amongst 4 persons\n",
    "term5 = (p11+p22)*(1-p11)*(1-p22)*(1-(1-p33))*(1-(1-p43))\n",
    "term6 = (p11+p32)*(1-p11)*(1-(1-p22))*(1-p32)*(1-(1-p43))\n",
    "term7 = (p11+p42)*(1-p11)*(1-(1-p22))*(1-(1-p32))*(1-p42)\n",
    "term8 = (p21+p32)*(1-(1-p11))*(1-p21)*(1-p32)*(1-(1-p43))\n",
    "term9 = (p21+p42)*(1-(1-p11))*(1-p21)*(1-(1-p32))*(1-p42)\n",
    "term10 = (p31+p42)*(1-(1-p11))*(1-(1-p21))*(1-p31)*(1-p42)\n",
    "\n",
    "# 3 of 3 tickets bought amongst 4 persons\n",
    "term11 = (p11+p22+p33)*(1-p11)*(1-p22)*(1-p33)\n",
    "term12 = (p11+p22+p43)*(1-p11)*(1-p22)*(1-(1-p33))*(1-p43)\n",
    "term13 = (p11+p32+p43)*(1-p11)*(1-(1-p22))*(1-p32)*(1-p43)\n",
    "term14 = (p21+p32+p43)*(1-(1-p11))*(1-p21)*(1-p32)*(1-p43)\n",
    "\n",
    "# Expectation\n",
    "expectation = term1 + term2 + term3 + term4 + \\\n",
    "              term5 + term6 + term7 + term8 + \\\n",
    "              term9 + term10 + term11 + term12 + \\\n",
    "              term13 + term14\n",
    "\n",
    "# Writing out diff equations to .txt file for easy Ctrl-C Ctrl-V\n",
    "file = open(\"4persons3tickets.txt\", \"w\")\n",
    "for idx, var in enumerate(vars):\n",
    "    __ = f\"eq{idx+1}=\"+str(sp.diff(expectation,var))\n",
    "    file.write(re.sub(r\"\\s+\", \"\", __)+\"\\n\\n\")\n",
    "file.close()\n",
    "\n",
    "equations = [sp.diff(expectation, var) for var in vars]\n",
    "initial_guess = [0.5 for i in range(len(vars))]\n",
    "_ = optimize_equations(vars, equations, initial_guess)\n",
    "table = np.zeros(shape=(4,3))\n",
    "for idx, var in enumerate(vars):\n",
    "    col, row = int(str(var)[-1])-1, int(str(var)[-2])-1\n",
    "    table[row][col] = np.round(_[idx],5)\n",
    "print(\"\\n == Corresponding to: == \")\n",
    "print(table)"
   ],
   "metadata": {
    "collapsed": false,
    "ExecuteTime": {
     "start_time": "2023-04-28T01:37:57.016040Z",
     "end_time": "2023-04-28T01:37:57.048824Z"
    }
   }
  },
  {
   "cell_type": "markdown",
   "source": [
    "# 2 tickets - 5 persons: (maybe wrong equations - double check)\n"
   ],
   "metadata": {
    "collapsed": false
   }
  },
  {
   "cell_type": "code",
   "execution_count": 409,
   "outputs": [
    {
     "name": "stdout",
     "output_type": "stream",
     "text": [
      "p11: 0.618075\n",
      "p21: 0.551353\n",
      "p31: 0.666734\n",
      "p41: 0.502064\n",
      "p51: 0.5\n",
      "p22: 0.739551\n",
      "p32: 0.692173\n",
      "p42: 0.56214\n",
      "p52: 0.564308\n",
      "\n",
      " == Corresponding to: == \n",
      "[[0.61808 0.     ]\n",
      " [0.55135 0.73955]\n",
      " [0.66673 0.69217]\n",
      " [0.50206 0.56214]\n",
      " [0.5     0.56431]]\n"
     ]
    }
   ],
   "source": [
    "p11, p21, p31, p41, p51 = sp.symbols('p11, p21, p31, p41, p51')\n",
    "p22, p32, p42, p52      = sp.symbols('p22, p32, p42, p52')\n",
    "\n",
    "\n",
    "vars = [p11, p21, p31, p41, p51, p22, p32, p42, p52]\n",
    "\n",
    "# Only 1 of 3 tickets bought amongst 5 persons\n",
    "term1 = p11*(1-p11)*(1-(1-p22))*(1-(1-p32))*(1-(1-p42))*(1-(1-p52))\n",
    "term2 = p21*(1-(1-p11))*(1-p21)*(1-(1-p32))*(1-(1-p42))*(1-(1-p52))\n",
    "term3 = p31*(1-(1-p11))*(1-(1-p21))*(1-p31)*(1-(1-p42))*(1-(1-p52))\n",
    "term4 = p41*(1-(1-p11))*(1-(1-p21))*(1-(1-p31))*(1-p41)*(1-(1-p52))\n",
    "term5 = p51*(1-(1-p11))*(1-(1-p21))*(1-(1-p31))*(1-(1-p41))*(1-p51)\n",
    "\n",
    "# 2 of 2 tickets bought amongst 5 persons\n",
    "term6 = (p11+p22)*(1-p11)*(1-p22)\n",
    "term7 = (p11+p32)*(1-p11)*(1-(1-p22))*(1-p32)\n",
    "term8 = (p11+p42)*(1-p11)*(1-(1-p22))*(1-(1-p32))*(1-p42)\n",
    "term9 = (p11+p52)*(1-p11)*(1-(1-p22))*(1-(1-p32))*(1-(1-p42))*(1-p52)\n",
    "term10 = (p21+p32)*(1-(1-p11))*(1-p21)*(1-p32)\n",
    "term11 = (p21+p42)*(1-(1-p11))*(1-p21)*(1-(1-p32))*(1-p42)\n",
    "term12 = (p21+p52)*(1-(1-p11))*(1-p21)*(1-(1-p32))*(1-(1-p42))*(1-p52)\n",
    "term13 = (p31+p42)*(1-(1-p11))*(1-(1-p21))*(1-p31)*(1-p42)\n",
    "term14 = (p31+p52)*(1-(1-p11))*(1-(1-p21))*(1-p31)*(1-(1-p42))*(1-p52)\n",
    "term15 = (p41+p52)*(1-(1-p11))*(1-(1-p21))*(1-(1-p31))*(1-p41)*(1-p52)\n",
    "\n",
    "\n",
    "\n",
    "# Expectation\n",
    "expectation = term1 + term2 + term3 + term4 + \\\n",
    "              term5 + term6 + term7 + term8 + \\\n",
    "              term9 + term10 + term11 + term12 + \\\n",
    "              term13 + term15\n",
    "\n",
    "# Writing out diff equations to .txt file for easy Ctrl-C Ctrl-V\n",
    "file = open(\"5persons2tickets.txt\", \"w\")\n",
    "for idx, var in enumerate(vars):\n",
    "    __ = f\"eq{idx+1}=\"+str(sp.diff(expectation,var))\n",
    "    file.write(re.sub(r\"\\s+\", \"\", __)+\"\\n\\n\")\n",
    "file.close()\n",
    "\n",
    "equations = [sp.diff(expectation, var) for var in vars]\n",
    "initial_guess = [0.5 for i in range(len(vars))]\n",
    "_ = optimize_equations(vars, equations, initial_guess)\n",
    "table = np.zeros(shape=(5,2))\n",
    "for idx, var in enumerate(vars):\n",
    "    col, row = int(str(var)[-1])-1, int(str(var)[-2])-1\n",
    "    table[row][col] = np.round(_[idx],5)\n",
    "print(\"\\n == Corresponding to: == \")\n",
    "print(table)"
   ],
   "metadata": {
    "collapsed": false,
    "ExecuteTime": {
     "start_time": "2023-04-28T01:37:57.055390Z",
     "end_time": "2023-04-28T01:37:57.100526Z"
    }
   }
  },
  {
   "cell_type": "markdown",
   "source": [
    "# 3 tickets - 5 persons: (maybe wrong equations - double check)"
   ],
   "metadata": {
    "collapsed": false
   }
  },
  {
   "cell_type": "code",
   "execution_count": 410,
   "outputs": [
    {
     "name": "stdout",
     "output_type": "stream",
     "text": [
      "p11: 0.53614\n",
      "p21: 0.477261\n",
      "p31: 0.568039\n",
      "p41: 0.50214\n",
      "p51: 0.5\n",
      "p22: 0.605658\n",
      "p32: 0.551507\n",
      "p42: 0.433065\n",
      "p52: 0.565909\n",
      "p33: 0.695318\n",
      "p43: 0.624999\n",
      "p53: 0.5\n",
      "\n",
      " == Corresponding to: == \n",
      "[[0.53614 0.      0.     ]\n",
      " [0.47726 0.60566 0.     ]\n",
      " [0.56804 0.55151 0.69532]\n",
      " [0.50214 0.43307 0.625  ]\n",
      " [0.5     0.56591 0.5    ]]\n"
     ]
    }
   ],
   "source": [
    "p11, p21, p31, p41, p51 = sp.symbols('p11, p21, p31, p41, p51')\n",
    "p22, p32, p42, p52      = sp.symbols('p22, p32, p42, p52')\n",
    "p33, p43, p53           = sp.symbols('p33, p43, p53')\n",
    "\n",
    "vars = [p11, p21, p31, p41, p51, p22, p32, p42, p52, p33, p43, p53]\n",
    "\n",
    "# Only 1 of 3 tickets bought amongst 5 persons\n",
    "term1 = p11*(1-p11)*(1-(1-p22))*(1-(1-p32))*(1-(1-p42))*(1-(1-p52))\n",
    "term2 = p21*(1-(1-p11))*(1-p21)*(1-(1-p32))*(1-(1-p42))*(1-(1-p52))\n",
    "term3 = p31*(1-(1-p11))*(1-(1-p21))*(1-p31)*(1-(1-p42))*(1-(1-p52))\n",
    "term4 = p41*(1-(1-p11))*(1-(1-p21))*(1-(1-p31))*(1-p41)*(1-(1-p52))\n",
    "term5 = p51*(1-(1-p11))*(1-(1-p21))*(1-(1-p31))*(1-(1-p41))*(1-p51)\n",
    "\n",
    "# 2 of 2 tickets bought amongst 5 persons\n",
    "term6 = (p11+p22)*(1-p11)*(1-p22)*(1-(1-p33))*(1-(1-p43))*(1-(1-p53))\n",
    "term7 = (p11+p32)*(1-p11)*(1-(1-p22))*(1-p32)*(1-(1-p43))*(1-(1-p53))\n",
    "term8 = (p11+p42)*(1-p11)*(1-(1-p22))*(1-(1-p32))*(1-p42)*(1-(1-p53))\n",
    "term9 = (p11+p52)*(1-p11)*(1-(1-p22))*(1-(1-p32))*(1-(1-p42))*(1-p52)\n",
    "term10 = (p21+p32)*(1-(1-p11))*(1-p21)*(1-p32)*(1-(1-p43))*(1-(1-p53))\n",
    "term11 = (p21+p42)*(1-(1-p11))*(1-p21)*(1-(1-p32))*(1-p42)*(1-(1-p53))\n",
    "term12 = (p21+p52)*(1-(1-p11))*(1-p21)*(1-(1-p32))*(1-(1-p42))*(1-p52)\n",
    "term13 = (p31+p42)*(1-(1-p11))*(1-(1-p21))*(1-p31)*(1-p42)*(1-(1-p53))\n",
    "term14 = (p31+p52)*(1-(1-p11))*(1-(1-p21))*(1-p31)*(1-(1-p42))*(1-p52)\n",
    "term15 = (p41+p52)*(1-(1-p11))*(1-(1-p21))*(1-(1-p31))*(1-p41)*(1-p52)\n",
    "\n",
    "# 3 of 3 tickets bought amongst 5 persons\n",
    "term16 = (p11+p22+p33)*(1-p11)*(1-p22)*(1-p33)\n",
    "term17 = (p11+p22+p43)*(1-p11)*(1-p22)*(1-(1-p33))*(1-p43)\n",
    "term18 = (p11+p22+p53)*(1-p11)*(1-p22)*(1-(1-p33))*(1-(1-p43))*(1-p53)\n",
    "term19 = (p11+p32+p43)*(1-p11)*(1-(1-p22))*(1-p32)*(1-p43)\n",
    "term20 = (p11+p32+p53)*(1-p11)*(1-(1-p22))*(1-p32)*(1-(1-p43))*(1-p53)\n",
    "term21 = (p11+p42+p53)*(1-p11)*(1-(1-p22))*(1-(1-p32))*(1-p42)*(1-p53)\n",
    "term22 = (p21+p32+p43)*(1-(1-p11))*(1-p21)*(1-p32)*(1-p43)\n",
    "term23 = (p21+p32+p53)*(1-(1-p11))*(1-p21)*(1-p32)*(1-(1-p43))*(1-p53)\n",
    "term24 = (p21+p42+p53)*(1-(1-p11))*(1-p21)*(1-(1-p32))*(1-p42)*(1-p53)\n",
    "term25 = (p31+p42+p53)*(1-(1-p11))*(1-(1-p21))*(1-p31)*(1-p42)*(1-p53)\n",
    "\n",
    "\n",
    "# Expectation\n",
    "expectation = term1 + term2 + term3 + term4 + \\\n",
    "              term5 + term6 + term7 + term8 + \\\n",
    "              term9 + term10 + term11 + term12 + \\\n",
    "              term13 + term15 + term16 + term17 + \\\n",
    "              term18 + term19 + term20 + term21 + \\\n",
    "              term22 + term23 + term24 + term25\n",
    "\n",
    "# Writing out diff equations to .txt file for easy Ctrl-C Ctrl-V\n",
    "file = open(\"5persons3tickets.txt\", \"w\")\n",
    "for idx, var in enumerate(vars):\n",
    "    __ = f\"eq{idx+1}=\"+str(sp.diff(expectation,var))\n",
    "    file.write(re.sub(r\"\\s+\", \"\", __)+\"\\n\\n\")\n",
    "file.close()\n",
    "\n",
    "equations = [sp.diff(expectation, var) for var in vars]\n",
    "initial_guess = [0.5 for i in range(len(vars))]\n",
    "_ = optimize_equations(vars, equations, initial_guess)\n",
    "table = np.zeros(shape=(5,3))\n",
    "for idx, var in enumerate(vars):\n",
    "    col, row = int(str(var)[-1])-1, int(str(var)[-2])-1\n",
    "    table[row][col] = np.round(_[idx],5)\n",
    "print(\"\\n == Corresponding to: == \")\n",
    "print(table)"
   ],
   "metadata": {
    "collapsed": false,
    "ExecuteTime": {
     "start_time": "2023-04-28T01:37:57.100983Z",
     "end_time": "2023-04-28T01:37:57.213239Z"
    }
   }
  },
  {
   "cell_type": "code",
   "execution_count": 410,
   "outputs": [],
   "source": [],
   "metadata": {
    "collapsed": false,
    "ExecuteTime": {
     "start_time": "2023-04-28T01:37:57.213765Z",
     "end_time": "2023-04-28T01:37:57.215260Z"
    }
   }
  }
 ],
 "metadata": {
  "kernelspec": {
   "display_name": "Python 3",
   "language": "python",
   "name": "python3"
  },
  "language_info": {
   "codemirror_mode": {
    "name": "ipython",
    "version": 2
   },
   "file_extension": ".py",
   "mimetype": "text/x-python",
   "name": "python",
   "nbconvert_exporter": "python",
   "pygments_lexer": "ipython2",
   "version": "2.7.6"
  }
 },
 "nbformat": 4,
 "nbformat_minor": 0
}
