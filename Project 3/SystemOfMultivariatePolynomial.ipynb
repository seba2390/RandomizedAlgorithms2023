{
 "cells": [
  {
   "cell_type": "code",
   "execution_count": 170,
   "outputs": [],
   "source": [
    "import itertools\n",
    "import re\n",
    "import sympy as sp\n",
    "import numpy as np\n",
    "from scipy.optimize import minimize\n",
    "from typing import *"
   ],
   "metadata": {
    "collapsed": false,
    "ExecuteTime": {
     "start_time": "2023-05-02T12:39:18.566471Z",
     "end_time": "2023-05-02T12:39:18.611839Z"
    }
   }
  },
  {
   "cell_type": "code",
   "execution_count": 171,
   "outputs": [],
   "source": [
    "def get_expectation(nr_persons: int, nr_tickets: int) -> sp.core.add.Add:\n",
    "    \"\"\"\n",
    "    Calculate the expected number of tickets bought by a group of people.\n",
    "\n",
    "    This function takes the number of persons and the number of available tickets as input, and\n",
    "    computes the expected number of tickets bought by the group. It uses the SymPy library to\n",
    "    handle symbolic expressions for the probabilities and calculations.\n",
    "\n",
    "    Args:\n",
    "        nr_persons (int): The number of persons in the group.\n",
    "        nr_tickets (int): The number of available tickets.\n",
    "\n",
    "    Returns:\n",
    "        sp.core.add.Add: The expected number of tickets bought by the group as a SymPy expression.\n",
    "\n",
    "    Raises:\n",
    "        ValueError: If nr_tickets is greater than nr_persons, or if either nr_persons or nr_tickets is\n",
    "                    equal to or greater than 100.\n",
    "    \"\"\"\n",
    "    if nr_tickets > nr_persons:\n",
    "        raise ValueError(\"Nr. persons should be less than nr. tickets.\")\n",
    "    if nr_tickets >= 100 or nr_persons >= 100:\n",
    "        raise ValueError(\"Nr. person and nr. tickets should be less than 100.\")\n",
    "\n",
    "    _difference_ = nr_persons - nr_tickets\n",
    "\n",
    "    ## Creating and ordering sympy variables in table ##\n",
    "    variable_table = np.empty(shape=(nr_persons,nr_tickets),dtype=object)\n",
    "    person_indexes = [i+1 for i in range(nr_persons)]\n",
    "    for ticket in range(nr_tickets):\n",
    "        for person in range(nr_persons):\n",
    "            if ticket <= person:\n",
    "                variable_table[person,ticket] = sp.Symbol(\"p\"+str(person+1)+str(ticket+1))\n",
    "\n",
    "    ## Calculating all combinations of letting n persons buy k tickets (k<n) ##\n",
    "    combos = []\n",
    "    for ticket_number in range(1,nr_tickets+1):\n",
    "        combs = list(itertools.combinations(person_indexes,ticket_number))\n",
    "        combos.append([list(comb) for comb in combs])\n",
    "    combos = np.array(combos,dtype=object)\n",
    "\n",
    "    ## Calculating expectation value ##\n",
    "    __term_counter__ = 0\n",
    "    __expectation = sp.sympify(0)\n",
    "    for combinations in combos:\n",
    "        for persons in combinations:\n",
    "            nr_tickets = len(persons)\n",
    "            person_nr, ticket_nr = 0, 0\n",
    "            term, term_weight = sp.sympify(1), sp.sympify(0)\n",
    "            while person_nr < nr_persons:\n",
    "                if ticket_nr < nr_tickets:\n",
    "                    person_buying = persons[ticket_nr]\n",
    "                    if person_nr + 1 == person_buying:\n",
    "                        term *= (1-variable_table[person_nr][ticket_nr])   # Buying\n",
    "                        term_weight += variable_table[person_nr][ticket_nr]\n",
    "                        ticket_nr += 1\n",
    "                        if ticket_nr == nr_persons-_difference_:\n",
    "                            break\n",
    "                    else:\n",
    "                        term *= variable_table[person_nr][ticket_nr]      # Not Buying\n",
    "                else:\n",
    "                    term *= variable_table[person_nr][ticket_nr]          # Not Buying\n",
    "                person_nr += 1\n",
    "            __expectation += term_weight*term\n",
    "            __term_counter__ += 1\n",
    "    print(\"Expectation contains \", __term_counter__, \" terms\")\n",
    "    return __expectation\n",
    "\n",
    "def optimize_equations(symbols: List[sp.Symbol], equations: List[sp.Expr],\n",
    "                       initial_guess: Union[List[float],np.ndarray[float]]) -> np.ndarray:\n",
    "    \"\"\"\n",
    "    Given a list of symbols, a list of equations, and an initial guess, optimize the values of the symbols\n",
    "    that minimize the sum of squares of the equations using the scipy.optimize.minimize function.\n",
    "    Returns an array of optimized values of the symbols.\n",
    "\n",
    "    Args:\n",
    "        symbols: A list of sympy symbols to optimize.\n",
    "        equations: A list of sympy expressions representing the equations to solve.\n",
    "        initial_guess: A list of initial guesses for the values of the symbols.\n",
    "\n",
    "    Returns:\n",
    "        An array of optimized values of the symbols.\n",
    "\n",
    "    Raises:\n",
    "        ValueError: If the length of symbols and initial_guess does not match.\n",
    "    \"\"\"\n",
    "    if len(symbols) != len(initial_guess):\n",
    "        raise ValueError(\"Length of symbols and initial_guess must match\")\n",
    "\n",
    "    # Create a function that takes in the values of the symbols and returns the equation\n",
    "    f = sp.lambdify(symbols, equations)\n",
    "\n",
    "    # Define the optimization problem\n",
    "    _bounds = [(0, 1) for _var in symbols]\n",
    "    _problem = minimize(lambda x: np.sum(np.square(f(*x))), initial_guess, bounds=_bounds)\n",
    "\n",
    "    # Print the optimized values\n",
    "    for i in range(len(symbols)):\n",
    "        print(f'{symbols[i]}: {np.round(_problem.x[i], 6)}')\n",
    "\n",
    "    return _problem.x"
   ],
   "metadata": {
    "collapsed": false,
    "ExecuteTime": {
     "start_time": "2023-05-02T12:39:18.574843Z",
     "end_time": "2023-05-02T12:39:18.612424Z"
    }
   }
  },
  {
   "cell_type": "markdown",
   "source": [
    "# 2 tickets - 3 persons:\n",
    "##### (Manually):"
   ],
   "metadata": {
    "collapsed": false
   }
  },
  {
   "cell_type": "code",
   "execution_count": 172,
   "outputs": [
    {
     "name": "stdout",
     "output_type": "stream",
     "text": [
      "p11: 0.554688\n",
      "p21: 0.5\n",
      "p22: 0.625\n",
      "p31: 0.5\n",
      "p32: 0.5\n",
      "\n",
      " == Corresponding to: == \n",
      "[[0.55469 0.     ]\n",
      " [0.5     0.625  ]\n",
      " [0.5     0.5    ]]\n"
     ]
    }
   ],
   "source": [
    "p11, p21, p31 = sp.symbols(\"p11, p21, p31\")\n",
    "p22, p32      = sp.symbols(\"p22, p32\")\n",
    "\n",
    "vars = [p11, p21, p22, p31, p32]\n",
    "# only 1 of 2 tickets bought amongst 3 persons\n",
    "term1 = p11*(1-p11)*(1-(1-p22))*(1-(1-p32))\n",
    "term2 = p21*(1-(1-p11))*(1-p21)*(1-(1-p32))\n",
    "term3 = p31*(1-(1-p11))*(1-(1-p21))*(1-p31)\n",
    "# 2 of 2 tickets bought amongst 3 persons\n",
    "term4 = (p11+p22)*(1-p11)*(1-p22)\n",
    "term5 = (p11+p32)*(1-p11)*(1-(1-p22))*(1-p32)\n",
    "term6 = (p21+p32)*(1-(1-p11))*(1-p21)*(1-p32)\n",
    "expectation = term1+term2+term3+term4+term5+term6\n",
    "\n",
    "# Writing out diff equations to .txt file for easy Ctrl-C Ctrl-V\n",
    "file = open(\"3persons2tickets.txt\", \"w\")\n",
    "for idx, var in enumerate(vars):\n",
    "    __ = f\"eq{idx+1}=\"+str(sp.diff(expectation,var))\n",
    "    file.write(re.sub(r\"\\s+\", \"\", __)+\"\\n\\n\")\n",
    "file.close()\n",
    "\n",
    "equations = [sp.diff(expectation, var) for var in vars]\n",
    "initial_guess = [0.5 for i in range(len(vars))]\n",
    "_ = optimize_equations(vars, equations, initial_guess)\n",
    "\n",
    "table = np.zeros(shape=(3,2))\n",
    "for idx, var in enumerate(vars):\n",
    "    col, row = int(str(var)[-1])-1, int(str(var)[-2])-1\n",
    "    table[row][col] = np.round(_[idx],5)\n",
    "print(\"\\n == Corresponding to: == \")\n",
    "print(table)"
   ],
   "metadata": {
    "collapsed": false,
    "ExecuteTime": {
     "start_time": "2023-05-02T12:39:18.582030Z",
     "end_time": "2023-05-02T12:39:18.639559Z"
    }
   }
  },
  {
   "cell_type": "markdown",
   "source": [
    "##### (Automatically):"
   ],
   "metadata": {
    "collapsed": false
   }
  },
  {
   "cell_type": "code",
   "execution_count": 173,
   "outputs": [
    {
     "name": "stdout",
     "output_type": "stream",
     "text": [
      "Expectation contains  6  terms\n",
      "p11: 0.554688\n",
      "p21: 0.5\n",
      "p22: 0.625\n",
      "p31: 0.5\n",
      "p32: 0.5\n",
      "\n",
      " == Corresponding to: == \n",
      "[[0.55469 0.     ]\n",
      " [0.5     0.625  ]\n",
      " [0.5     0.5    ]]\n"
     ]
    }
   ],
   "source": [
    "expectation = get_expectation(nr_persons=3,nr_tickets=2)\n",
    "equations = [sp.diff(expectation, var) for var in vars]\n",
    "initial_guess = [0.5 for i in range(len(vars))]\n",
    "_ = optimize_equations(vars, equations, initial_guess)\n",
    "\n",
    "table = np.zeros(shape=(3,2))\n",
    "for idx, var in enumerate(vars):\n",
    "    col, row = int(str(var)[-1])-1, int(str(var)[-2])-1\n",
    "    table[row][col] = np.round(_[idx],5)\n",
    "print(\"\\n == Corresponding to: == \")\n",
    "print(table)"
   ],
   "metadata": {
    "collapsed": false,
    "ExecuteTime": {
     "start_time": "2023-05-02T12:39:18.606264Z",
     "end_time": "2023-05-02T12:39:18.640211Z"
    }
   }
  },
  {
   "cell_type": "markdown",
   "source": [
    "# 2 tickets - 4 persons:"
   ],
   "metadata": {
    "collapsed": false
   }
  },
  {
   "cell_type": "code",
   "execution_count": 174,
   "outputs": [
    {
     "name": "stdout",
     "output_type": "stream",
     "text": [
      "p11: 0.607422\n",
      "p21: 0.554686\n",
      "p31: 0.5\n",
      "p41: 0.5\n",
      "p22: 0.695312\n",
      "p32: 0.625\n",
      "p42: 0.5\n",
      "\n",
      " == Corresponding to: == \n",
      "[[0.60742 0.     ]\n",
      " [0.55469 0.69531]\n",
      " [0.5     0.625  ]\n",
      " [0.5     0.5    ]]\n"
     ]
    }
   ],
   "source": [
    "p11, p21, p31, p41 = sp.symbols('p11, p21, p31, p41')\n",
    "p22, p32, p42      = sp.symbols('p22, p32, p42')\n",
    "\n",
    "vars = [p11, p21, p31, p41, p22, p32, p42]\n",
    "\n",
    "# Only 1 of 3 tickets bought amongst 4 persons\n",
    "term1 = p11*(1-p11)*(1-(1-p22))*(1-(1-p32))*(1-(1-p42))\n",
    "term2 = p21*(1-(1-p11))*(1-p21)*(1-(1-p32))*(1-(1-p42))\n",
    "term3 = p31*(1-(1-p11))*(1-(1-p21))*(1-p31)*(1-(1-p42))\n",
    "term4 = p41*(1-(1-p11))*(1-(1-p21))*(1-(1-p31))*(1-p41)\n",
    "\n",
    "# 2 of 2 tickets bought amongst 4 persons\n",
    "term5 = (p11+p22)*(1-p11)*(1-p22)\n",
    "term6 = (p11+p32)*(1-p11)*(1-(1-p22))*(1-p32)\n",
    "term7 = (p11+p42)*(1-p11)*(1-(1-p22))*(1-(1-p32))*(1-p42)\n",
    "term8 = (p21+p32)*(1-(1-p11))*(1-p21)*(1-p32)\n",
    "term9 = (p21+p42)*(1-(1-p11))*(1-p21)*(1-(1-p32))*(1-p42)\n",
    "term10 = (p31+p42)*(1-(1-p11))*(1-(1-p21))*(1-p31)*(1-p42)\n",
    "\n",
    "# Expectation\n",
    "expectation = term1 + term2 + term3 + term4 + \\\n",
    "              term5 + term6 + term7 + term8 + \\\n",
    "              term9 + term10\n",
    "\n",
    "# Writing out diff equations to .txt file for easy Ctrl-C Ctrl-V\n",
    "file = open(\"4persons2tickets.txt\", \"w\")\n",
    "for idx, var in enumerate(vars):\n",
    "    __ = f\"eq{idx+1}=\"+str(sp.diff(expectation,var))\n",
    "    file.write(re.sub(r\"\\s+\", \"\", __)+\"\\n\\n\")\n",
    "file.close()\n",
    "\n",
    "equations = [sp.diff(expectation, var) for var in vars]\n",
    "initial_guess = [0.5 for i in range(len(vars))]\n",
    "_ = optimize_equations(vars, equations, initial_guess)\n",
    "table = np.zeros(shape=(4,2))\n",
    "for idx, var in enumerate(vars):\n",
    "    col, row = int(str(var)[-1])-1, int(str(var)[-2])-1\n",
    "    table[row][col] = np.round(_[idx],5)\n",
    "print(\"\\n == Corresponding to: == \")\n",
    "print(table)"
   ],
   "metadata": {
    "collapsed": false,
    "ExecuteTime": {
     "start_time": "2023-05-02T12:39:18.617174Z",
     "end_time": "2023-05-02T12:39:18.646936Z"
    }
   }
  },
  {
   "cell_type": "markdown",
   "source": [
    "###### (Automatically):"
   ],
   "metadata": {
    "collapsed": false
   }
  },
  {
   "cell_type": "code",
   "execution_count": 175,
   "outputs": [
    {
     "name": "stdout",
     "output_type": "stream",
     "text": [
      "Expectation contains  10  terms\n",
      "p11: 0.607422\n",
      "p21: 0.554686\n",
      "p31: 0.5\n",
      "p41: 0.5\n",
      "p22: 0.695312\n",
      "p32: 0.625\n",
      "p42: 0.5\n",
      "\n",
      " == Corresponding to: == \n",
      "[[0.60742 0.     ]\n",
      " [0.55469 0.69531]\n",
      " [0.5     0.625  ]\n",
      " [0.5     0.5    ]]\n"
     ]
    }
   ],
   "source": [
    "expectation = get_expectation(nr_persons=4,nr_tickets=2)\n",
    "equations = [sp.diff(expectation, var) for var in vars]\n",
    "initial_guess = [0.5 for i in range(len(vars))]\n",
    "_ = optimize_equations(vars, equations, initial_guess)\n",
    "\n",
    "table = np.zeros(shape=(4,2))\n",
    "for idx, var in enumerate(vars):\n",
    "    col, row = int(str(var)[-1])-1, int(str(var)[-2])-1\n",
    "    table[row][col] = np.round(_[idx],5)\n",
    "print(\"\\n == Corresponding to: == \")\n",
    "print(table)"
   ],
   "metadata": {
    "collapsed": false,
    "ExecuteTime": {
     "start_time": "2023-05-02T12:39:18.655798Z",
     "end_time": "2023-05-02T12:39:18.704796Z"
    }
   }
  },
  {
   "cell_type": "markdown",
   "source": [
    "# 3 Tickets - 4 persons:"
   ],
   "metadata": {
    "collapsed": false
   }
  },
  {
   "cell_type": "code",
   "execution_count": 176,
   "outputs": [
    {
     "name": "stdout",
     "output_type": "stream",
     "text": [
      "p11: 0.525848\n",
      "p21: 0.5\n",
      "p31: 0.5\n",
      "p41: 0.5\n",
      "p22: 0.554691\n",
      "p32: 0.5\n",
      "p42: 0.5\n",
      "p33: 0.625006\n",
      "p43: 0.5\n",
      "\n",
      " == Corresponding to: == \n",
      "[[0.52585 0.      0.     ]\n",
      " [0.5     0.55469 0.     ]\n",
      " [0.5     0.5     0.62501]\n",
      " [0.5     0.5     0.5    ]]\n"
     ]
    }
   ],
   "source": [
    "p11, p21, p31, p41 = sp.symbols('p11, p21, p31, p41')\n",
    "p22, p32, p42      = sp.symbols('p22, p32, p42')\n",
    "p33, p43           = sp.symbols('p33, p43')\n",
    "\n",
    "vars = [p11, p21, p31, p41, p22, p32, p42, p33, p43]\n",
    "\n",
    "# 1 of 3 tickets bought amongst 4 persons\n",
    "term1 = p11*(1-p11)*(1-(1-p22))*(1-(1-p32))*(1-(1-p42))\n",
    "term2 = p21*(1-(1-p11))*(1-p21)*(1-(1-p32))*(1-(1-p42))\n",
    "term3 = p31*(1-(1-p11))*(1-(1-p21))*(1-p31)*(1-(1-p42))\n",
    "term4 = p41*(1-(1-p11))*(1-(1-p21))*(1-(1-p31))*(1-p41)\n",
    "\n",
    "# 2 of 3 tickets bought amongst 4 persons\n",
    "term5 = (p11+p22)*(1-p11)*(1-p22)*(1-(1-p33))*(1-(1-p43))\n",
    "term6 = (p11+p32)*(1-p11)*(1-(1-p22))*(1-p32)*(1-(1-p43))\n",
    "term7 = (p11+p42)*(1-p11)*(1-(1-p22))*(1-(1-p32))*(1-p42)\n",
    "term8 = (p21+p32)*(1-(1-p11))*(1-p21)*(1-p32)*(1-(1-p43))\n",
    "term9 = (p21+p42)*(1-(1-p11))*(1-p21)*(1-(1-p32))*(1-p42)\n",
    "term10 = (p31+p42)*(1-(1-p11))*(1-(1-p21))*(1-p31)*(1-p42)\n",
    "\n",
    "# 3 of 3 tickets bought amongst 4 persons\n",
    "term11 = (p11+p22+p33)*(1-p11)*(1-p22)*(1-p33)\n",
    "term12 = (p11+p22+p43)*(1-p11)*(1-p22)*(1-(1-p33))*(1-p43)\n",
    "term13 = (p11+p32+p43)*(1-p11)*(1-(1-p22))*(1-p32)*(1-p43)\n",
    "term14 = (p21+p32+p43)*(1-(1-p11))*(1-p21)*(1-p32)*(1-p43)\n",
    "\n",
    "# Expectation\n",
    "expectation = term1 + term2 + term3 + term4 + \\\n",
    "              term5 + term6 + term7 + term8 + \\\n",
    "              term9 + term10 + term11 + term12 + \\\n",
    "              term13 + term14\n",
    "\n",
    "# Writing out diff equations to .txt file for easy Ctrl-C Ctrl-V\n",
    "file = open(\"4persons3tickets.txt\", \"w\")\n",
    "for idx, var in enumerate(vars):\n",
    "    __ = f\"eq{idx+1}=\"+str(sp.diff(expectation,var))\n",
    "    file.write(re.sub(r\"\\s+\", \"\", __)+\"\\n\\n\")\n",
    "file.close()\n",
    "\n",
    "equations = [sp.diff(expectation, var) for var in vars]\n",
    "initial_guess = [0.5 for i in range(len(vars))]\n",
    "_ = optimize_equations(vars, equations, initial_guess)\n",
    "table = np.zeros(shape=(4,3))\n",
    "for idx, var in enumerate(vars):\n",
    "    col, row = int(str(var)[-1])-1, int(str(var)[-2])-1\n",
    "    table[row][col] = np.round(_[idx],5)\n",
    "print(\"\\n == Corresponding to: == \")\n",
    "print(table)"
   ],
   "metadata": {
    "collapsed": false,
    "ExecuteTime": {
     "start_time": "2023-05-02T12:39:18.672183Z",
     "end_time": "2023-05-02T12:39:18.723920Z"
    }
   }
  },
  {
   "cell_type": "markdown",
   "source": [
    "##### (Automatically):"
   ],
   "metadata": {
    "collapsed": false
   }
  },
  {
   "cell_type": "code",
   "execution_count": 177,
   "outputs": [
    {
     "name": "stdout",
     "output_type": "stream",
     "text": [
      "Expectation contains  14  terms\n",
      "p11: 0.525848\n",
      "p21: 0.5\n",
      "p31: 0.5\n",
      "p41: 0.5\n",
      "p22: 0.554691\n",
      "p32: 0.5\n",
      "p42: 0.5\n",
      "p33: 0.625006\n",
      "p43: 0.5\n",
      "\n",
      " == Corresponding to: == \n",
      "[[0.52585 0.      0.     ]\n",
      " [0.5     0.55469 0.     ]\n",
      " [0.5     0.5     0.62501]\n",
      " [0.5     0.5     0.5    ]]\n"
     ]
    }
   ],
   "source": [
    "expectation = get_expectation(nr_persons=4,nr_tickets=3)\n",
    "equations = [sp.diff(expectation, var) for var in vars]\n",
    "initial_guess = [0.5 for i in range(len(vars))]\n",
    "_ = optimize_equations(vars, equations, initial_guess)\n",
    "\n",
    "table = np.zeros(shape=(4,3))\n",
    "for idx, var in enumerate(vars):\n",
    "    col, row = int(str(var)[-1])-1, int(str(var)[-2])-1\n",
    "    table[row][col] = np.round(_[idx],5)\n",
    "print(\"\\n == Corresponding to: == \")\n",
    "print(table)"
   ],
   "metadata": {
    "collapsed": false,
    "ExecuteTime": {
     "start_time": "2023-05-02T12:39:18.754997Z",
     "end_time": "2023-05-02T12:39:18.759834Z"
    }
   }
  },
  {
   "cell_type": "markdown",
   "source": [
    "# 2 tickets - 5 persons\n",
    "##### (Automatically):\n"
   ],
   "metadata": {
    "collapsed": false
   }
  },
  {
   "cell_type": "code",
   "execution_count": 178,
   "outputs": [
    {
     "name": "stdout",
     "output_type": "stream",
     "text": [
      "Expectation contains  15  terms\n",
      "p11: 0.651129\n",
      "p21: 0.607422\n",
      "p31: 0.554688\n",
      "p41: 0.5\n",
      "p51: 0.5\n",
      "p22: 0.741737\n",
      "p32: 0.695311\n",
      "p42: 0.625002\n",
      "p52: 0.5\n",
      "\n",
      " == Corresponding to: == \n",
      "[[0.65113 0.     ]\n",
      " [0.60742 0.74174]\n",
      " [0.55469 0.69531]\n",
      " [0.5     0.625  ]\n",
      " [0.5     0.5    ]]\n"
     ]
    }
   ],
   "source": [
    "p11, p21, p31, p41, p51 = sp.symbols('p11, p21, p31, p41, p51')\n",
    "p22, p32, p42, p52      = sp.symbols('p22, p32, p42, p52')\n",
    "\n",
    "vars = [p11, p21, p31, p41, p51, p22, p32, p42, p52]\n",
    "\n",
    "expectation = get_expectation(nr_persons=5,nr_tickets=2)\n",
    "equations = [sp.diff(expectation, var) for var in vars]\n",
    "initial_guess = [0.5 for i in range(len(vars))]\n",
    "_ = optimize_equations(vars, equations, initial_guess)\n",
    "\n",
    "table = np.zeros(shape=(5,2))\n",
    "for idx, var in enumerate(vars):\n",
    "    col, row = int(str(var)[-1])-1, int(str(var)[-2])-1\n",
    "    table[row][col] = np.round(_[idx],5)\n",
    "print(\"\\n == Corresponding to: == \")\n",
    "print(table)"
   ],
   "metadata": {
    "collapsed": false,
    "ExecuteTime": {
     "start_time": "2023-05-02T12:39:18.776848Z",
     "end_time": "2023-05-02T12:39:18.798765Z"
    }
   }
  },
  {
   "cell_type": "markdown",
   "source": [],
   "metadata": {
    "collapsed": false
   }
  },
  {
   "cell_type": "markdown",
   "source": [
    "# 3 tickets - 5 persons:\n",
    "##### (Automatically):"
   ],
   "metadata": {
    "collapsed": false
   }
  },
  {
   "cell_type": "code",
   "execution_count": 179,
   "outputs": [
    {
     "name": "stdout",
     "output_type": "stream",
     "text": [
      "Expectation contains  25  terms\n",
      "p11: 0.5612\n",
      "p21: 0.525849\n",
      "p31: 0.5\n",
      "p41: 0.5\n",
      "p51: 0.5\n",
      "p22: 0.60742\n",
      "p32: 0.554688\n",
      "p42: 0.5\n",
      "p52: 0.5\n",
      "p33: 0.69532\n",
      "p43: 0.624999\n",
      "p53: 0.5\n",
      "\n",
      " == Corresponding to: == \n",
      "[[0.5612  0.      0.     ]\n",
      " [0.52585 0.60742 0.     ]\n",
      " [0.5     0.55469 0.69532]\n",
      " [0.5     0.5     0.625  ]\n",
      " [0.5     0.5     0.5    ]]\n"
     ]
    }
   ],
   "source": [
    "## Creating sympy variable ##\n",
    "person_indexes = [i+1 for i in range(5)]\n",
    "vars_string = \"\"\n",
    "for ticket in range(3):\n",
    "    for person in range(5):\n",
    "        if ticket <= person:\n",
    "            vars_string += \"p\"+str(person+1)+str(ticket+1)+\", \"\n",
    "vars_string = vars_string[:-2]\n",
    "vars = sp.symbols(vars_string)\n",
    "\n",
    "expectation = get_expectation(nr_persons=5,nr_tickets=3)\n",
    "equations = [sp.diff(expectation, var) for var in vars]\n",
    "initial_guess = [0.5 for i in range(len(vars))]\n",
    "_ = optimize_equations(vars, equations, initial_guess)\n",
    "\n",
    "table = np.zeros(shape=(5,3))\n",
    "for idx, var in enumerate(vars):\n",
    "    col, row = int(str(var)[-1])-1, int(str(var)[-2])-1\n",
    "    table[row][col] = np.round(_[idx],5)\n",
    "print(\"\\n == Corresponding to: == \")\n",
    "print(table)"
   ],
   "metadata": {
    "collapsed": false,
    "ExecuteTime": {
     "start_time": "2023-05-02T12:39:18.846601Z",
     "end_time": "2023-05-02T12:39:18.878209Z"
    }
   }
  },
  {
   "cell_type": "markdown",
   "source": [
    "# Testing higher numbers\n",
    "##### (Automatically):"
   ],
   "metadata": {
    "collapsed": false
   }
  },
  {
   "cell_type": "code",
   "execution_count": 180,
   "outputs": [
    {
     "name": "stdout",
     "output_type": "stream",
     "text": [
      "Computing expectation...\n",
      "Expectation contains  255  terms\n",
      "Computing derivatives...\n",
      "Computing optimization...\n",
      "p11: 0.614743\n",
      "p21: 0.588954\n",
      "p31: 0.561805\n",
      "p41: 0.53508\n",
      "p51: 0.512476\n",
      "p61: 0.5\n",
      "p71: 0.5\n",
      "p81: 0.5\n",
      "p91: 0.5\n",
      "p22: 0.657384\n",
      "p32: 0.628901\n",
      "p42: 0.596639\n",
      "p52: 0.561198\n",
      "p62: 0.525848\n",
      "p72: 0.5\n",
      "p82: 0.5\n",
      "p92: 0.5\n",
      "p33: 0.715864\n",
      "p43: 0.68669\n",
      "p53: 0.651128\n",
      "p63: 0.607422\n",
      "p73: 0.554687\n",
      "p83: 0.5\n",
      "p93: 0.5\n",
      "p44: 0.800414\n",
      "p54: 0.775101\n",
      "p64: 0.741696\n",
      "p74: 0.695309\n",
      "p84: 0.624999\n",
      "p94: 0.5\n",
      "\n",
      " == Corresponding to: == \n",
      "[[0.61474 0.      0.      0.     ]\n",
      " [0.58895 0.65738 0.      0.     ]\n",
      " [0.56181 0.6289  0.71586 0.     ]\n",
      " [0.53508 0.59664 0.68669 0.80041]\n",
      " [0.51248 0.5612  0.65113 0.7751 ]\n",
      " [0.5     0.52585 0.60742 0.7417 ]\n",
      " [0.5     0.5     0.55469 0.69531]\n",
      " [0.5     0.5     0.5     0.625  ]\n",
      " [0.5     0.5     0.5     0.5    ]]\n"
     ]
    }
   ],
   "source": [
    "nr_persons = 9\n",
    "nr_tickets = 4\n",
    "\n",
    "person_indexes = [i+1 for i in range(nr_persons)]\n",
    "vars_string = \"\"\n",
    "for ticket in range(nr_tickets):\n",
    "    for person in range(nr_persons):\n",
    "        if ticket <= person:\n",
    "            vars_string += \"p\"+str(person+1)+str(ticket+1)+\", \"\n",
    "vars_string = vars_string[:-2]\n",
    "vars = sp.symbols(vars_string)\n",
    "\n",
    "print(\"Computing expectation...\")\n",
    "expectation = get_expectation(nr_persons=nr_persons,nr_tickets=nr_tickets)\n",
    "print(\"Computing derivatives...\")\n",
    "equations = [sp.diff(expectation, var) for var in vars]\n",
    "initial_guess = [0.5 for i in range(len(vars))]\n",
    "print(\"Computing optimization...\")\n",
    "_ = optimize_equations(vars, equations, initial_guess)\n",
    "\n",
    "table = np.zeros(shape=(nr_persons,nr_tickets))\n",
    "for idx, var in enumerate(vars):\n",
    "    col, row = int(str(var)[-1])-1, int(str(var)[-2])-1\n",
    "    table[row][col] = np.round(_[idx],5)\n",
    "print(\"\\n == Corresponding to: == \")\n",
    "print(table)"
   ],
   "metadata": {
    "collapsed": false,
    "ExecuteTime": {
     "start_time": "2023-05-02T12:39:18.881028Z",
     "end_time": "2023-05-02T12:39:22.425400Z"
    }
   }
  },
  {
   "cell_type": "markdown",
   "source": [
    "First, let's define the terms:\n",
    "\n",
    "- E[n, k] represents the expected revenue with n potential customers and k available tickets.\n",
    "\n",
    "- p[n, k] is the optimal price for the k-th ticket when there are n potential customers.\n",
    "\n",
    "- v[n, k] is the value of the k-th ticket for the n-th potential customer.\n",
    "\n",
    "The first equation calculates the expected revenue E[n, k]:\n",
    "\n",
    "- If the value of the k-th ticket for the n-th customer, v[n, k], is greater than or equal to the optimal price p[n, k], the customer will buy the ticket. The probability of this happening is Pr[v[n, k] ≥ p[n, k]] = 1 - p[n, k]. In this case, the revenue generated is the price of the ticket, p[n, k], plus the expected revenue from selling the remaining k - 1 tickets to the n - 1 remaining customers, E[n - 1, k - 1].\n",
    "\n",
    " - If the value of the k-th ticket for the n-th customer, v[n, k], is less than the optimal price p[n, k], the customer will not buy the ticket. The probability of this happening is Pr[v[n, k] < p[n, k]] = p[n, k]. In this case, the revenue generated is the expected revenue from selling the remaining k tickets to the n - 1 remaining customers, E[n - 1, k]."
   ],
   "metadata": {
    "collapsed": false
   }
  },
  {
   "cell_type": "markdown",
   "source": [
    "Now trying:\n",
    "\\begin{align}\n",
    "\\text{E}[n,k]&=\\text{Pr}[v_{n,k}\\geq p_{n,k}](p_{n,k}+\\text{E}[n-1,k-1])+\\text{Pr}[v_{n,k}<p_{n,k}]\\text{E}[n-1,k] \\\\\n",
    "&=(1-p_{n,k})(p_{n,k}+\\text{E}[n-1,k-1])+(1-(1-p_{n,k}))\\text{E}[n-1,k] \\\\\n",
    "&=(1-p_{n,k})(p_{n,k}+\\text{E}[n-1,k-1])+p_{n,k}\\text{E}[n-1,k]\n",
    "\\end{align}\n",
    "s.t.\n",
    "\\begin{align}\n",
    "\\frac{\\partial}{\\partial p_{n,k}}\\Big(\\text{E}[n,k]\\Big)&=1-2p_{n,k}-\\text{E}[n-1,k-1]+\\text{E}[n-1,k] \\\\\n",
    "\\end{align}\n",
    "solving =0:\n",
    "\\begin{equation}\n",
    "p_{n,k}=\\frac{1-\\text{E}[n-1,k-1]+\\text{E}[n-1,k]}{2}\n",
    "\\end{equation}"
   ],
   "metadata": {
    "collapsed": false
   }
  },
  {
   "cell_type": "code",
   "execution_count": 184,
   "outputs": [],
   "source": [
    "def p_kn(n,k,exps):\n",
    "    return (1-exps[n-1,k-1]+exps[n-1,k])/2\n",
    "\n",
    "def e_kn(n,k,exps):\n",
    "    return (1-p_kn(n,k,exps))*(p_kn(n,k,exps)+exps[n-1,k-1])+p_kn(n,k,exps)*exps[n-1,k]\n",
    "\n",
    "\n",
    "n,k = 9, 4\n",
    "# Formatted as (n,k): value\n",
    "P = np.zeros(shape=(n+1,k+1),dtype=float)\n",
    "E = np.zeros(shape=(n+1,k+1),dtype=float)\n",
    "# Edge cases\n",
    "P[(1, 1)] = 1/2\n",
    "E[(1,1)] =  1/4\n",
    "for _n in range(0,n+1):\n",
    "    for _k in range(0,k+1):\n",
    "        if _k == 0 or _n == 0:\n",
    "            E[_n,_k] = 0\n",
    "        else:\n",
    "            P[_n, _k] = p_kn(_n,_k,E)\n",
    "            E[_n, _k] = e_kn(_n,_k,E)\n",
    "\n",
    "A = np.flip(P[1:,1:])\n",
    "print(A)\n",
    "print(table)"
   ],
   "metadata": {
    "collapsed": false,
    "ExecuteTime": {
     "start_time": "2023-05-02T12:39:37.248622Z",
     "end_time": "2023-05-02T12:39:37.251422Z"
    }
   }
  },
  {
   "cell_type": "code",
   "execution_count": 185,
   "outputs": [
    {
     "data": {
      "text/plain": "array([[0.61474022, 0.68229473, 0.76047871, 0.84982141],\n       [0.58895429, 0.65738255, 0.7400724 , 0.83644654],\n       [0.56180777, 0.62889437, 0.71584682, 0.8203006 ],\n       [0.53510137, 0.5966169 , 0.68669026, 0.80037567],\n       [0.51259012, 0.56119947, 0.6511289 , 0.7750815 ],\n       [0.5       , 0.52584839, 0.60742188, 0.74172974],\n       [0.5       , 0.5       , 0.5546875 , 0.6953125 ],\n       [0.5       , 0.5       , 0.5       , 0.625     ],\n       [0.5       , 0.5       , 0.5       , 0.5       ]])"
     },
     "execution_count": 185,
     "metadata": {},
     "output_type": "execute_result"
    }
   ],
   "source": [
    "A = np.flip(P[1:,1:])\n",
    "A"
   ],
   "metadata": {
    "collapsed": false,
    "ExecuteTime": {
     "start_time": "2023-05-02T12:39:38.745305Z",
     "end_time": "2023-05-02T12:39:38.749673Z"
    }
   }
  },
  {
   "cell_type": "code",
   "execution_count": 183,
   "outputs": [
    {
     "data": {
      "text/plain": "array([[0.61474, 0.     , 0.     , 0.     ],\n       [0.58895, 0.65738, 0.     , 0.     ],\n       [0.56181, 0.6289 , 0.71586, 0.     ],\n       [0.53508, 0.59664, 0.68669, 0.80041],\n       [0.51248, 0.5612 , 0.65113, 0.7751 ],\n       [0.5    , 0.52585, 0.60742, 0.7417 ],\n       [0.5    , 0.5    , 0.55469, 0.69531],\n       [0.5    , 0.5    , 0.5    , 0.625  ],\n       [0.5    , 0.5    , 0.5    , 0.5    ]])"
     },
     "execution_count": 183,
     "metadata": {},
     "output_type": "execute_result"
    }
   ],
   "source": [
    "table"
   ],
   "metadata": {
    "collapsed": false,
    "ExecuteTime": {
     "start_time": "2023-05-02T12:39:22.435418Z",
     "end_time": "2023-05-02T12:39:22.437553Z"
    }
   }
  },
  {
   "cell_type": "code",
   "execution_count": 183,
   "outputs": [],
   "source": [],
   "metadata": {
    "collapsed": false,
    "ExecuteTime": {
     "start_time": "2023-05-02T12:39:22.437894Z",
     "end_time": "2023-05-02T12:39:22.439730Z"
    }
   }
  }
 ],
 "metadata": {
  "kernelspec": {
   "display_name": "Python 3",
   "language": "python",
   "name": "python3"
  },
  "language_info": {
   "codemirror_mode": {
    "name": "ipython",
    "version": 2
   },
   "file_extension": ".py",
   "mimetype": "text/x-python",
   "name": "python",
   "nbconvert_exporter": "python",
   "pygments_lexer": "ipython2",
   "version": "2.7.6"
  }
 },
 "nbformat": 4,
 "nbformat_minor": 0
}
