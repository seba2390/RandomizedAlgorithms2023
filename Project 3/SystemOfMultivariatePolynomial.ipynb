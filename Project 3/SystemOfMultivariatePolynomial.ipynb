{
 "cells": [
  {
   "cell_type": "code",
   "execution_count": 1,
   "outputs": [],
   "source": [
    "import itertools\n",
    "import re\n",
    "import sympy as sp\n",
    "import numpy as np\n",
    "from scipy.optimize import minimize\n",
    "from typing import *"
   ],
   "metadata": {
    "collapsed": false,
    "ExecuteTime": {
     "start_time": "2023-04-30T23:04:27.239697Z",
     "end_time": "2023-04-30T23:04:27.876351Z"
    }
   }
  },
  {
   "cell_type": "code",
   "execution_count": 2,
   "outputs": [],
   "source": [
    "def get_expectation(nr_persons: int, nr_tickets: int) -> sp.core.add.Add:\n",
    "    \"\"\"\n",
    "    Calculate the expected number of tickets bought by a group of people.\n",
    "\n",
    "    This function takes the number of persons and the number of available tickets as input, and\n",
    "    computes the expected number of tickets bought by the group. It uses the SymPy library to\n",
    "    handle symbolic expressions for the probabilities and calculations.\n",
    "\n",
    "    Args:\n",
    "        nr_persons (int): The number of persons in the group.\n",
    "        nr_tickets (int): The number of available tickets.\n",
    "\n",
    "    Returns:\n",
    "        sp.core.add.Add: The expected number of tickets bought by the group as a SymPy expression.\n",
    "\n",
    "    Raises:\n",
    "        ValueError: If nr_tickets is greater than nr_persons, or if either nr_persons or nr_tickets is\n",
    "                    equal to or greater than 100.\n",
    "    \"\"\"\n",
    "    if nr_tickets > nr_persons:\n",
    "        raise ValueError(\"Nr. persons should be less than nr. tickets.\")\n",
    "    if nr_tickets >= 100 or nr_persons >= 100:\n",
    "        raise ValueError(\"Nr. person and nr. tickets should be less than 100.\")\n",
    "\n",
    "    _difference_ = nr_persons - nr_tickets\n",
    "\n",
    "    ## Creating and ordering sympy variables in table ##\n",
    "    variable_table = np.empty(shape=(nr_persons,nr_tickets),dtype=object)\n",
    "    person_indexes = [i+1 for i in range(nr_persons)]\n",
    "    for ticket in range(nr_tickets):\n",
    "        for person in range(nr_persons):\n",
    "            if ticket <= person:\n",
    "                variable_table[person,ticket] = sp.Symbol(\"p\"+str(person+1)+str(ticket+1))\n",
    "\n",
    "    ## Calculating all combinations of letting n persons buy k tickets (k<n) ##\n",
    "    combos = []\n",
    "    for ticket_number in range(1,nr_tickets+1):\n",
    "        combs = list(itertools.combinations(person_indexes,ticket_number))\n",
    "        combos.append([list(comb) for comb in combs])\n",
    "    combos = np.array(combos,dtype=object)\n",
    "\n",
    "    ## Calculating expectation value ##\n",
    "    __expectation = sp.sympify(0)\n",
    "    for combinations in combos:\n",
    "        for persons in combinations:\n",
    "            nr_tickets = len(persons)\n",
    "            person_nr, ticket_nr = 0, 0\n",
    "            term, term_weight = sp.sympify(1), sp.sympify(0)\n",
    "            while person_nr < nr_persons:\n",
    "                if ticket_nr < nr_tickets:\n",
    "                    person_buying = persons[ticket_nr]\n",
    "                    if person_nr + 1 == person_buying:\n",
    "                        term *= (1-variable_table[person_nr][ticket_nr])   # Buying\n",
    "                        term_weight += variable_table[person_nr][ticket_nr]\n",
    "                        ticket_nr += 1\n",
    "                        if ticket_nr == nr_persons-_difference_:\n",
    "                            break\n",
    "                    else:\n",
    "                        term *= variable_table[person_nr][ticket_nr]      # Not Buying\n",
    "                else:\n",
    "                    term *= variable_table[person_nr][ticket_nr]          # Not Buying\n",
    "                person_nr += 1\n",
    "            __expectation += term_weight*term\n",
    "    return __expectation\n",
    "\n",
    "def optimize_equations(symbols: List[sp.Symbol], equations: List[sp.Expr],\n",
    "                       initial_guess: Union[List[float],np.ndarray[float]]) -> np.ndarray:\n",
    "    \"\"\"\n",
    "    Given a list of symbols, a list of equations, and an initial guess, optimize the values of the symbols\n",
    "    that minimize the sum of squares of the equations using the scipy.optimize.minimize function.\n",
    "    Returns an array of optimized values of the symbols.\n",
    "\n",
    "    Args:\n",
    "        symbols: A list of sympy symbols to optimize.\n",
    "        equations: A list of sympy expressions representing the equations to solve.\n",
    "        initial_guess: A list of initial guesses for the values of the symbols.\n",
    "\n",
    "    Returns:\n",
    "        An array of optimized values of the symbols.\n",
    "\n",
    "    Raises:\n",
    "        ValueError: If the length of symbols and initial_guess does not match.\n",
    "    \"\"\"\n",
    "    if len(symbols) != len(initial_guess):\n",
    "        raise ValueError(\"Length of symbols and initial_guess must match\")\n",
    "\n",
    "    # Create a function that takes in the values of the symbols and returns the equation\n",
    "    f = sp.lambdify(symbols, equations)\n",
    "\n",
    "    # Define the optimization problem\n",
    "    _bounds = [(0, 1) for _var in symbols]\n",
    "    _problem = minimize(lambda x: np.sum(np.square(f(*x))), initial_guess, bounds=_bounds)\n",
    "\n",
    "    # Print the optimized values\n",
    "    for i in range(len(symbols)):\n",
    "        print(f'{symbols[i]}: {np.round(_problem.x[i], 6)}')\n",
    "\n",
    "    return _problem.x"
   ],
   "metadata": {
    "collapsed": false,
    "ExecuteTime": {
     "start_time": "2023-04-30T23:04:27.877956Z",
     "end_time": "2023-04-30T23:04:27.885018Z"
    }
   }
  },
  {
   "cell_type": "markdown",
   "source": [
    "# 2 tickets - 3 persons:\n",
    "##### (Manually):"
   ],
   "metadata": {
    "collapsed": false
   }
  },
  {
   "cell_type": "code",
   "execution_count": 3,
   "outputs": [
    {
     "name": "stdout",
     "output_type": "stream",
     "text": [
      "p11: 0.554688\n",
      "p21: 0.5\n",
      "p22: 0.625\n",
      "p31: 0.5\n",
      "p32: 0.5\n",
      "\n",
      " == Corresponding to: == \n",
      "[[0.55469 0.     ]\n",
      " [0.5     0.625  ]\n",
      " [0.5     0.5    ]]\n"
     ]
    }
   ],
   "source": [
    "p11, p21, p31 = sp.symbols(\"p11, p21, p31\")\n",
    "p22, p32      = sp.symbols(\"p22, p32\")\n",
    "\n",
    "vars = [p11, p21, p22, p31, p32]\n",
    "# only 1 of 2 tickets bought amongst 3 persons\n",
    "term1 = p11*(1-p11)*(1-(1-p22))*(1-(1-p32))\n",
    "term2 = p21*(1-(1-p11))*(1-p21)*(1-(1-p32))\n",
    "term3 = p31*(1-(1-p11))*(1-(1-p21))*(1-p31)\n",
    "# 2 of 2 tickets bought amongst 3 persons\n",
    "term4 = (p11+p22)*(1-p11)*(1-p22)\n",
    "term5 = (p11+p32)*(1-p11)*(1-(1-p22))*(1-p32)\n",
    "term6 = (p21+p32)*(1-(1-p11))*(1-p21)*(1-p32)\n",
    "expectation = term1+term2+term3+term4+term5+term6\n",
    "\n",
    "# Writing out diff equations to .txt file for easy Ctrl-C Ctrl-V\n",
    "file = open(\"3persons2tickets.txt\", \"w\")\n",
    "for idx, var in enumerate(vars):\n",
    "    __ = f\"eq{idx+1}=\"+str(sp.diff(expectation,var))\n",
    "    file.write(re.sub(r\"\\s+\", \"\", __)+\"\\n\\n\")\n",
    "file.close()\n",
    "\n",
    "equations = [sp.diff(expectation, var) for var in vars]\n",
    "initial_guess = [0.5 for i in range(len(vars))]\n",
    "_ = optimize_equations(vars, equations, initial_guess)\n",
    "\n",
    "table = np.zeros(shape=(3,2))\n",
    "for idx, var in enumerate(vars):\n",
    "    col, row = int(str(var)[-1])-1, int(str(var)[-2])-1\n",
    "    table[row][col] = np.round(_[idx],5)\n",
    "print(\"\\n == Corresponding to: == \")\n",
    "print(table)"
   ],
   "metadata": {
    "collapsed": false,
    "ExecuteTime": {
     "start_time": "2023-04-30T23:04:27.888061Z",
     "end_time": "2023-04-30T23:04:27.955837Z"
    }
   }
  },
  {
   "cell_type": "markdown",
   "source": [
    "##### (Automatically):"
   ],
   "metadata": {
    "collapsed": false
   }
  },
  {
   "cell_type": "code",
   "execution_count": 4,
   "outputs": [
    {
     "name": "stdout",
     "output_type": "stream",
     "text": [
      "p11: 0.554688\n",
      "p21: 0.5\n",
      "p22: 0.625\n",
      "p31: 0.5\n",
      "p32: 0.5\n",
      "\n",
      " == Corresponding to: == \n",
      "[[0.55469 0.     ]\n",
      " [0.5     0.625  ]\n",
      " [0.5     0.5    ]]\n"
     ]
    }
   ],
   "source": [
    "expectation = get_expectation(nr_persons=3,nr_tickets=2)\n",
    "equations = [sp.diff(expectation, var) for var in vars]\n",
    "initial_guess = [0.5 for i in range(len(vars))]\n",
    "_ = optimize_equations(vars, equations, initial_guess)\n",
    "\n",
    "table = np.zeros(shape=(3,2))\n",
    "for idx, var in enumerate(vars):\n",
    "    col, row = int(str(var)[-1])-1, int(str(var)[-2])-1\n",
    "    table[row][col] = np.round(_[idx],5)\n",
    "print(\"\\n == Corresponding to: == \")\n",
    "print(table)"
   ],
   "metadata": {
    "collapsed": false,
    "ExecuteTime": {
     "start_time": "2023-04-30T23:04:27.966338Z",
     "end_time": "2023-04-30T23:04:27.969632Z"
    }
   }
  },
  {
   "cell_type": "markdown",
   "source": [
    "# 2 tickets - 4 persons:"
   ],
   "metadata": {
    "collapsed": false
   }
  },
  {
   "cell_type": "code",
   "execution_count": 5,
   "outputs": [
    {
     "name": "stdout",
     "output_type": "stream",
     "text": [
      "p11: 0.607422\n",
      "p21: 0.554686\n",
      "p31: 0.5\n",
      "p41: 0.5\n",
      "p22: 0.695312\n",
      "p32: 0.625\n",
      "p42: 0.5\n",
      "\n",
      " == Corresponding to: == \n",
      "[[0.60742 0.     ]\n",
      " [0.55469 0.69531]\n",
      " [0.5     0.625  ]\n",
      " [0.5     0.5    ]]\n"
     ]
    }
   ],
   "source": [
    "p11, p21, p31, p41 = sp.symbols('p11, p21, p31, p41')\n",
    "p22, p32, p42      = sp.symbols('p22, p32, p42')\n",
    "\n",
    "vars = [p11, p21, p31, p41, p22, p32, p42]\n",
    "\n",
    "# Only 1 of 3 tickets bought amongst 4 persons\n",
    "term1 = p11*(1-p11)*(1-(1-p22))*(1-(1-p32))*(1-(1-p42))\n",
    "term2 = p21*(1-(1-p11))*(1-p21)*(1-(1-p32))*(1-(1-p42))\n",
    "term3 = p31*(1-(1-p11))*(1-(1-p21))*(1-p31)*(1-(1-p42))\n",
    "term4 = p41*(1-(1-p11))*(1-(1-p21))*(1-(1-p31))*(1-p41)\n",
    "\n",
    "# 2 of 2 tickets bought amongst 4 persons\n",
    "term5 = (p11+p22)*(1-p11)*(1-p22)\n",
    "term6 = (p11+p32)*(1-p11)*(1-(1-p22))*(1-p32)\n",
    "term7 = (p11+p42)*(1-p11)*(1-(1-p22))*(1-(1-p32))*(1-p42)\n",
    "term8 = (p21+p32)*(1-(1-p11))*(1-p21)*(1-p32)\n",
    "term9 = (p21+p42)*(1-(1-p11))*(1-p21)*(1-(1-p32))*(1-p42)\n",
    "term10 = (p31+p42)*(1-(1-p11))*(1-(1-p21))*(1-p31)*(1-p42)\n",
    "\n",
    "# Expectation\n",
    "expectation = term1 + term2 + term3 + term4 + \\\n",
    "              term5 + term6 + term7 + term8 + \\\n",
    "              term9 + term10\n",
    "\n",
    "# Writing out diff equations to .txt file for easy Ctrl-C Ctrl-V\n",
    "file = open(\"4persons2tickets.txt\", \"w\")\n",
    "for idx, var in enumerate(vars):\n",
    "    __ = f\"eq{idx+1}=\"+str(sp.diff(expectation,var))\n",
    "    file.write(re.sub(r\"\\s+\", \"\", __)+\"\\n\\n\")\n",
    "file.close()\n",
    "\n",
    "equations = [sp.diff(expectation, var) for var in vars]\n",
    "initial_guess = [0.5 for i in range(len(vars))]\n",
    "_ = optimize_equations(vars, equations, initial_guess)\n",
    "table = np.zeros(shape=(4,2))\n",
    "for idx, var in enumerate(vars):\n",
    "    col, row = int(str(var)[-1])-1, int(str(var)[-2])-1\n",
    "    table[row][col] = np.round(_[idx],5)\n",
    "print(\"\\n == Corresponding to: == \")\n",
    "print(table)"
   ],
   "metadata": {
    "collapsed": false,
    "ExecuteTime": {
     "start_time": "2023-04-30T23:04:27.979753Z",
     "end_time": "2023-04-30T23:04:28.036557Z"
    }
   }
  },
  {
   "cell_type": "markdown",
   "source": [
    "###### (Automatically):"
   ],
   "metadata": {
    "collapsed": false
   }
  },
  {
   "cell_type": "code",
   "execution_count": 6,
   "outputs": [
    {
     "name": "stdout",
     "output_type": "stream",
     "text": [
      "p11: 0.607422\n",
      "p21: 0.554686\n",
      "p31: 0.5\n",
      "p41: 0.5\n",
      "p22: 0.695312\n",
      "p32: 0.625\n",
      "p42: 0.5\n",
      "\n",
      " == Corresponding to: == \n",
      "[[0.60742 0.     ]\n",
      " [0.55469 0.69531]\n",
      " [0.5     0.625  ]\n",
      " [0.5     0.5    ]]\n"
     ]
    }
   ],
   "source": [
    "expectation = get_expectation(nr_persons=4,nr_tickets=2)\n",
    "equations = [sp.diff(expectation, var) for var in vars]\n",
    "initial_guess = [0.5 for i in range(len(vars))]\n",
    "_ = optimize_equations(vars, equations, initial_guess)\n",
    "\n",
    "table = np.zeros(shape=(4,2))\n",
    "for idx, var in enumerate(vars):\n",
    "    col, row = int(str(var)[-1])-1, int(str(var)[-2])-1\n",
    "    table[row][col] = np.round(_[idx],5)\n",
    "print(\"\\n == Corresponding to: == \")\n",
    "print(table)"
   ],
   "metadata": {
    "collapsed": false,
    "ExecuteTime": {
     "start_time": "2023-04-30T23:04:28.056660Z",
     "end_time": "2023-04-30T23:04:28.075199Z"
    }
   }
  },
  {
   "cell_type": "markdown",
   "source": [
    "# 3 Tickets - 4 persons:"
   ],
   "metadata": {
    "collapsed": false
   }
  },
  {
   "cell_type": "code",
   "execution_count": 7,
   "outputs": [
    {
     "name": "stdout",
     "output_type": "stream",
     "text": [
      "p11: 0.525848\n",
      "p21: 0.5\n",
      "p31: 0.5\n",
      "p41: 0.5\n",
      "p22: 0.554691\n",
      "p32: 0.5\n",
      "p42: 0.5\n",
      "p33: 0.625006\n",
      "p43: 0.5\n",
      "\n",
      " == Corresponding to: == \n",
      "[[0.52585 0.      0.     ]\n",
      " [0.5     0.55469 0.     ]\n",
      " [0.5     0.5     0.62501]\n",
      " [0.5     0.5     0.5    ]]\n"
     ]
    }
   ],
   "source": [
    "p11, p21, p31, p41 = sp.symbols('p11, p21, p31, p41')\n",
    "p22, p32, p42      = sp.symbols('p22, p32, p42')\n",
    "p33, p43           = sp.symbols('p33, p43')\n",
    "\n",
    "vars = [p11, p21, p31, p41, p22, p32, p42, p33, p43]\n",
    "\n",
    "# 1 of 3 tickets bought amongst 4 persons\n",
    "term1 = p11*(1-p11)*(1-(1-p22))*(1-(1-p32))*(1-(1-p42))\n",
    "term2 = p21*(1-(1-p11))*(1-p21)*(1-(1-p32))*(1-(1-p42))\n",
    "term3 = p31*(1-(1-p11))*(1-(1-p21))*(1-p31)*(1-(1-p42))\n",
    "term4 = p41*(1-(1-p11))*(1-(1-p21))*(1-(1-p31))*(1-p41)\n",
    "\n",
    "# 2 of 3 tickets bought amongst 4 persons\n",
    "term5 = (p11+p22)*(1-p11)*(1-p22)*(1-(1-p33))*(1-(1-p43))\n",
    "term6 = (p11+p32)*(1-p11)*(1-(1-p22))*(1-p32)*(1-(1-p43))\n",
    "term7 = (p11+p42)*(1-p11)*(1-(1-p22))*(1-(1-p32))*(1-p42)\n",
    "term8 = (p21+p32)*(1-(1-p11))*(1-p21)*(1-p32)*(1-(1-p43))\n",
    "term9 = (p21+p42)*(1-(1-p11))*(1-p21)*(1-(1-p32))*(1-p42)\n",
    "term10 = (p31+p42)*(1-(1-p11))*(1-(1-p21))*(1-p31)*(1-p42)\n",
    "\n",
    "# 3 of 3 tickets bought amongst 4 persons\n",
    "term11 = (p11+p22+p33)*(1-p11)*(1-p22)*(1-p33)\n",
    "term12 = (p11+p22+p43)*(1-p11)*(1-p22)*(1-(1-p33))*(1-p43)\n",
    "term13 = (p11+p32+p43)*(1-p11)*(1-(1-p22))*(1-p32)*(1-p43)\n",
    "term14 = (p21+p32+p43)*(1-(1-p11))*(1-p21)*(1-p32)*(1-p43)\n",
    "\n",
    "# Expectation\n",
    "expectation = term1 + term2 + term3 + term4 + \\\n",
    "              term5 + term6 + term7 + term8 + \\\n",
    "              term9 + term10 + term11 + term12 + \\\n",
    "              term13 + term14\n",
    "\n",
    "# Writing out diff equations to .txt file for easy Ctrl-C Ctrl-V\n",
    "file = open(\"4persons3tickets.txt\", \"w\")\n",
    "for idx, var in enumerate(vars):\n",
    "    __ = f\"eq{idx+1}=\"+str(sp.diff(expectation,var))\n",
    "    file.write(re.sub(r\"\\s+\", \"\", __)+\"\\n\\n\")\n",
    "file.close()\n",
    "\n",
    "equations = [sp.diff(expectation, var) for var in vars]\n",
    "initial_guess = [0.5 for i in range(len(vars))]\n",
    "_ = optimize_equations(vars, equations, initial_guess)\n",
    "table = np.zeros(shape=(4,3))\n",
    "for idx, var in enumerate(vars):\n",
    "    col, row = int(str(var)[-1])-1, int(str(var)[-2])-1\n",
    "    table[row][col] = np.round(_[idx],5)\n",
    "print(\"\\n == Corresponding to: == \")\n",
    "print(table)"
   ],
   "metadata": {
    "collapsed": false,
    "ExecuteTime": {
     "start_time": "2023-04-30T23:04:28.060475Z",
     "end_time": "2023-04-30T23:04:28.148940Z"
    }
   }
  },
  {
   "cell_type": "markdown",
   "source": [
    "##### (Automatically):"
   ],
   "metadata": {
    "collapsed": false
   }
  },
  {
   "cell_type": "code",
   "execution_count": 8,
   "outputs": [
    {
     "name": "stdout",
     "output_type": "stream",
     "text": [
      "p11: 0.525848\n",
      "p21: 0.5\n",
      "p31: 0.5\n",
      "p41: 0.5\n",
      "p22: 0.554691\n",
      "p32: 0.5\n",
      "p42: 0.5\n",
      "p33: 0.625006\n",
      "p43: 0.5\n",
      "\n",
      " == Corresponding to: == \n",
      "[[0.52585 0.      0.     ]\n",
      " [0.5     0.55469 0.     ]\n",
      " [0.5     0.5     0.62501]\n",
      " [0.5     0.5     0.5    ]]\n"
     ]
    }
   ],
   "source": [
    "expectation = get_expectation(nr_persons=4,nr_tickets=3)\n",
    "equations = [sp.diff(expectation, var) for var in vars]\n",
    "initial_guess = [0.5 for i in range(len(vars))]\n",
    "_ = optimize_equations(vars, equations, initial_guess)\n",
    "\n",
    "table = np.zeros(shape=(4,3))\n",
    "for idx, var in enumerate(vars):\n",
    "    col, row = int(str(var)[-1])-1, int(str(var)[-2])-1\n",
    "    table[row][col] = np.round(_[idx],5)\n",
    "print(\"\\n == Corresponding to: == \")\n",
    "print(table)"
   ],
   "metadata": {
    "collapsed": false,
    "ExecuteTime": {
     "start_time": "2023-04-30T23:04:28.153877Z",
     "end_time": "2023-04-30T23:04:28.184678Z"
    }
   }
  },
  {
   "cell_type": "markdown",
   "source": [
    "# 2 tickets - 5 persons\n",
    "##### (Automatically):\n"
   ],
   "metadata": {
    "collapsed": false
   }
  },
  {
   "cell_type": "code",
   "execution_count": 9,
   "outputs": [
    {
     "name": "stdout",
     "output_type": "stream",
     "text": [
      "p11: 0.651129\n",
      "p21: 0.607422\n",
      "p31: 0.554688\n",
      "p41: 0.5\n",
      "p51: 0.5\n",
      "p22: 0.741737\n",
      "p32: 0.695311\n",
      "p42: 0.625002\n",
      "p52: 0.5\n",
      "\n",
      " == Corresponding to: == \n",
      "[[0.65113 0.     ]\n",
      " [0.60742 0.74174]\n",
      " [0.55469 0.69531]\n",
      " [0.5     0.625  ]\n",
      " [0.5     0.5    ]]\n"
     ]
    }
   ],
   "source": [
    "p11, p21, p31, p41, p51 = sp.symbols('p11, p21, p31, p41, p51')\n",
    "p22, p32, p42, p52      = sp.symbols('p22, p32, p42, p52')\n",
    "\n",
    "vars = [p11, p21, p31, p41, p51, p22, p32, p42, p52]\n",
    "\n",
    "expectation = get_expectation(nr_persons=5,nr_tickets=2)\n",
    "equations = [sp.diff(expectation, var) for var in vars]\n",
    "initial_guess = [0.5 for i in range(len(vars))]\n",
    "_ = optimize_equations(vars, equations, initial_guess)\n",
    "\n",
    "table = np.zeros(shape=(5,2))\n",
    "for idx, var in enumerate(vars):\n",
    "    col, row = int(str(var)[-1])-1, int(str(var)[-2])-1\n",
    "    table[row][col] = np.round(_[idx],5)\n",
    "print(\"\\n == Corresponding to: == \")\n",
    "print(table)"
   ],
   "metadata": {
    "collapsed": false,
    "ExecuteTime": {
     "start_time": "2023-04-30T23:04:28.248623Z",
     "end_time": "2023-04-30T23:04:28.269863Z"
    }
   }
  },
  {
   "cell_type": "markdown",
   "source": [],
   "metadata": {
    "collapsed": false
   }
  },
  {
   "cell_type": "markdown",
   "source": [
    "# 3 tickets - 5 persons:\n",
    "##### (Automatically):"
   ],
   "metadata": {
    "collapsed": false
   }
  },
  {
   "cell_type": "code",
   "execution_count": 10,
   "outputs": [
    {
     "name": "stdout",
     "output_type": "stream",
     "text": [
      "p11: 0.5612\n",
      "p21: 0.525849\n",
      "p31: 0.5\n",
      "p41: 0.5\n",
      "p51: 0.5\n",
      "p22: 0.60742\n",
      "p32: 0.554688\n",
      "p42: 0.5\n",
      "p52: 0.5\n",
      "p33: 0.69532\n",
      "p43: 0.624999\n",
      "p53: 0.5\n",
      "\n",
      " == Corresponding to: == \n",
      "[[0.5612  0.      0.     ]\n",
      " [0.52585 0.60742 0.     ]\n",
      " [0.5     0.55469 0.69532]\n",
      " [0.5     0.5     0.625  ]\n",
      " [0.5     0.5     0.5    ]]\n"
     ]
    }
   ],
   "source": [
    "## Creating sympy variable ##\n",
    "person_indexes = [i+1 for i in range(5)]\n",
    "vars_string = \"\"\n",
    "for ticket in range(3):\n",
    "    for person in range(5):\n",
    "        if ticket <= person:\n",
    "            vars_string += \"p\"+str(person+1)+str(ticket+1)+\", \"\n",
    "vars_string = vars_string[:-2]\n",
    "vars = sp.symbols(vars_string)\n",
    "\n",
    "expectation = get_expectation(nr_persons=5,nr_tickets=3)\n",
    "equations = [sp.diff(expectation, var) for var in vars]\n",
    "initial_guess = [0.5 for i in range(len(vars))]\n",
    "_ = optimize_equations(vars, equations, initial_guess)\n",
    "\n",
    "table = np.zeros(shape=(5,3))\n",
    "for idx, var in enumerate(vars):\n",
    "    col, row = int(str(var)[-1])-1, int(str(var)[-2])-1\n",
    "    table[row][col] = np.round(_[idx],5)\n",
    "print(\"\\n == Corresponding to: == \")\n",
    "print(table)"
   ],
   "metadata": {
    "collapsed": false,
    "ExecuteTime": {
     "start_time": "2023-04-30T23:04:28.295446Z",
     "end_time": "2023-04-30T23:04:28.417749Z"
    }
   }
  },
  {
   "cell_type": "markdown",
   "source": [
    "# Testing higher numbers\n",
    "##### (Automatically):"
   ],
   "metadata": {
    "collapsed": false
   }
  },
  {
   "cell_type": "code",
   "execution_count": 11,
   "outputs": [
    {
     "name": "stdout",
     "output_type": "stream",
     "text": [
      "Computing expectation...\n",
      "Computing derivatives...\n",
      "Computing optimization...\n",
      "p11: 0.583094\n",
      "p21: 0.560907\n",
      "p31: 0.539226\n",
      "p41: 0.52009\n",
      "p51: 0.506271\n",
      "p61: 0.5\n",
      "p71: 0.5\n",
      "p81: 0.5\n",
      "p91: 0.5\n",
      "p101: 0.5\n",
      "p22: 0.61474\n",
      "p32: 0.588953\n",
      "p42: 0.561811\n",
      "p52: 0.535101\n",
      "p62: 0.512603\n",
      "p72: 0.5\n",
      "p82: 0.5\n",
      "p92: 0.5\n",
      "p102: 0.5\n",
      "p33: 0.657396\n",
      "p43: 0.628893\n",
      "p53: 0.596618\n",
      "p63: 0.561198\n",
      "p73: 0.525848\n",
      "p83: 0.5\n",
      "p93: 0.5\n",
      "p103: 0.5\n",
      "p44: 0.716168\n",
      "p54: 0.68674\n",
      "p64: 0.651112\n",
      "p74: 0.607421\n",
      "p84: 0.554687\n",
      "p94: 0.5\n",
      "p104: 0.5\n",
      "p55: 0.801053\n",
      "p65: 0.775145\n",
      "p75: 0.741784\n",
      "p85: 0.695295\n",
      "p95: 0.625002\n",
      "p105: 0.5\n",
      "\n",
      " == Corresponding to: == \n",
      "[[0.58309 0.      0.      0.      0.     ]\n",
      " [0.56091 0.61474 0.      0.      0.     ]\n",
      " [0.53923 0.58895 0.6574  0.      0.     ]\n",
      " [0.52009 0.56181 0.62889 0.71617 0.     ]\n",
      " [0.50627 0.5351  0.59662 0.68674 0.80105]\n",
      " [0.5     0.5126  0.5612  0.65111 0.77514]\n",
      " [0.5     0.5     0.52585 0.60742 0.74178]\n",
      " [0.5     0.5     0.5     0.55469 0.6953 ]\n",
      " [0.5     0.5     0.5     0.5     0.625  ]\n",
      " [0.5     0.5     0.5     0.5     0.5    ]]\n"
     ]
    }
   ],
   "source": [
    "nr_persons = 10\n",
    "nr_tickets = 5\n",
    "\n",
    "person_indexes = [i+1 for i in range(nr_persons)]\n",
    "vars_string = \"\"\n",
    "for ticket in range(nr_tickets):\n",
    "    for person in range(nr_persons):\n",
    "        if ticket <= person:\n",
    "            vars_string += \"p\"+str(person+1)+str(ticket+1)+\", \"\n",
    "vars_string = vars_string[:-2]\n",
    "vars = sp.symbols(vars_string)\n",
    "\n",
    "print(\"Computing expectation...\")\n",
    "expectation = get_expectation(nr_persons=nr_persons,nr_tickets=nr_tickets)\n",
    "print(\"Computing derivatives...\")\n",
    "equations = [sp.diff(expectation, var) for var in vars]\n",
    "initial_guess = [0.5 for i in range(len(vars))]\n",
    "print(\"Computing optimization...\")\n",
    "_ = optimize_equations(vars, equations, initial_guess)\n",
    "\n",
    "table = np.zeros(shape=(nr_persons,nr_tickets))\n",
    "for idx, var in enumerate(vars):\n",
    "    col, row = int(str(var)[-1])-1, int(str(var)[-2])-1\n",
    "    table[row][col] = np.round(_[idx],5)\n",
    "print(\"\\n == Corresponding to: == \")\n",
    "print(table)"
   ],
   "metadata": {
    "collapsed": false,
    "ExecuteTime": {
     "start_time": "2023-04-30T23:04:28.474601Z",
     "end_time": "2023-04-30T23:05:00.064276Z"
    }
   }
  },
  {
   "cell_type": "code",
   "execution_count": 11,
   "outputs": [],
   "source": [
    "nr_apples = 0\n",
    "for apple in range(nr_apples):\n",
    "    nr_apples += 1\n",
    "print(n)"
   ],
   "metadata": {
    "collapsed": false,
    "ExecuteTime": {
     "start_time": "2023-04-30T23:05:00.064463Z",
     "end_time": "2023-04-30T23:05:00.066811Z"
    }
   }
  }
 ],
 "metadata": {
  "kernelspec": {
   "display_name": "Python 3",
   "language": "python",
   "name": "python3"
  },
  "language_info": {
   "codemirror_mode": {
    "name": "ipython",
    "version": 2
   },
   "file_extension": ".py",
   "mimetype": "text/x-python",
   "name": "python",
   "nbconvert_exporter": "python",
   "pygments_lexer": "ipython2",
   "version": "2.7.6"
  }
 },
 "nbformat": 4,
 "nbformat_minor": 0
}
